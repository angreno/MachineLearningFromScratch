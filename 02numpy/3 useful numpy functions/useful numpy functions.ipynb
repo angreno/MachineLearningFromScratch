{
 "cells": [
  {
   "cell_type": "code",
   "execution_count": 1,
   "id": "067365b9-7b21-46e9-9be3-349379b7cc6c",
   "metadata": {},
   "outputs": [],
   "source": [
    "import numpy as np"
   ]
  },
  {
   "cell_type": "markdown",
   "id": "0edd6205-0a27-4877-8643-33b9e0adb789",
   "metadata": {},
   "source": [
    "## today we'll learn about np.sort .\n",
    "## sorts and gives result in np.array"
   ]
  },
  {
   "cell_type": "code",
   "execution_count": 2,
   "id": "4a956d89-d682-4c0d-9f65-5a4b9715008b",
   "metadata": {},
   "outputs": [],
   "source": [
    "a= np.random.randint(1,100,15)"
   ]
  },
  {
   "cell_type": "code",
   "execution_count": 3,
   "id": "b7dd8f88-f8c5-4fa5-bb59-448945472362",
   "metadata": {},
   "outputs": [
    {
     "data": {
      "text/plain": [
       "array([27, 55, 13, 49, 95,  8, 25, 77, 55, 96,  8, 82, 40, 58, 44],\n",
       "      dtype=int32)"
      ]
     },
     "execution_count": 3,
     "metadata": {},
     "output_type": "execute_result"
    }
   ],
   "source": [
    "a"
   ]
  },
  {
   "cell_type": "code",
   "execution_count": 4,
   "id": "ce7a5ec8-0393-43f6-91f7-ece54ccf70b0",
   "metadata": {},
   "outputs": [],
   "source": [
    "b=np.random.randint(1,100,24).reshape(6,4)"
   ]
  },
  {
   "cell_type": "code",
   "execution_count": 5,
   "id": "0dd221a4-85e9-4d32-bc0e-4096d6f74554",
   "metadata": {},
   "outputs": [
    {
     "data": {
      "text/plain": [
       "array([[30, 64,  8, 48],\n",
       "       [67, 42, 21, 96],\n",
       "       [62,  9, 72, 55],\n",
       "       [37, 22, 38, 15],\n",
       "       [57, 41, 62, 81],\n",
       "       [36, 54, 48, 56]], dtype=int32)"
      ]
     },
     "execution_count": 5,
     "metadata": {},
     "output_type": "execute_result"
    }
   ],
   "source": [
    "b"
   ]
  },
  {
   "cell_type": "code",
   "execution_count": 6,
   "id": "1ba3f042-45b4-4a7a-afb9-1e66b314ee6e",
   "metadata": {},
   "outputs": [
    {
     "data": {
      "text/plain": [
       "array([ 8,  8, 13, 25, 27, 40, 44, 49, 55, 55, 58, 77, 82, 95, 96],\n",
       "      dtype=int32)"
      ]
     },
     "execution_count": 6,
     "metadata": {},
     "output_type": "execute_result"
    }
   ],
   "source": [
    "np.sort(a)"
   ]
  },
  {
   "cell_type": "code",
   "execution_count": 7,
   "id": "e6a9fdce-570d-4bbf-a37a-afcc3a70437a",
   "metadata": {},
   "outputs": [
    {
     "data": {
      "text/plain": [
       "array([[ 8, 30, 48, 64],\n",
       "       [21, 42, 67, 96],\n",
       "       [ 9, 55, 62, 72],\n",
       "       [15, 22, 37, 38],\n",
       "       [41, 57, 62, 81],\n",
       "       [36, 48, 54, 56]], dtype=int32)"
      ]
     },
     "execution_count": 7,
     "metadata": {},
     "output_type": "execute_result"
    }
   ],
   "source": [
    "np.sort(b)"
   ]
  },
  {
   "cell_type": "markdown",
   "id": "cbb3eff2-3c09-40bf-9f56-0588f211d403",
   "metadata": {},
   "source": [
    "## by default np.sort return in ascending values . to do it in decending we will follow this syntax -: np.sort()[::-1]\n",
    "## with axis 0 we sort acc to column"
   ]
  },
  {
   "cell_type": "code",
   "execution_count": 8,
   "id": "31b6f71f-2398-4867-917c-115853a0ade1",
   "metadata": {},
   "outputs": [
    {
     "data": {
      "text/plain": [
       "array([[30,  9,  8, 15],\n",
       "       [36, 22, 21, 48],\n",
       "       [37, 41, 38, 55],\n",
       "       [57, 42, 48, 56],\n",
       "       [62, 54, 62, 81],\n",
       "       [67, 64, 72, 96]], dtype=int32)"
      ]
     },
     "execution_count": 8,
     "metadata": {},
     "output_type": "execute_result"
    }
   ],
   "source": [
    "np.sort(b,axis = 0) #with axis 0 we sort acc to column"
   ]
  },
  {
   "cell_type": "code",
   "execution_count": 9,
   "id": "d5c94000-2a7e-4c2b-ad04-ffa38a0f5dc0",
   "metadata": {},
   "outputs": [
    {
     "data": {
      "text/plain": [
       "array([[ 8, 30, 48, 64],\n",
       "       [21, 42, 67, 96],\n",
       "       [ 9, 55, 62, 72],\n",
       "       [15, 22, 37, 38],\n",
       "       [41, 57, 62, 81],\n",
       "       [36, 48, 54, 56]], dtype=int32)"
      ]
     },
     "execution_count": 9,
     "metadata": {},
     "output_type": "execute_result"
    }
   ],
   "source": [
    "np.sort(b,axis = 1) #with axis 1 we sort acc to row"
   ]
  },
  {
   "cell_type": "markdown",
   "id": "98a19b3a-d062-4c5a-8e70-14a05d0b7646",
   "metadata": {},
   "source": [
    "## np.append add item in last \n",
    "## parameter for append function = np.apend(array, values, axis)"
   ]
  },
  {
   "cell_type": "code",
   "execution_count": 10,
   "id": "2174c336-441b-47ea-9e6e-554a2c1ca5a0",
   "metadata": {},
   "outputs": [
    {
     "data": {
      "text/plain": [
       "array([   27,    55,    13,    49,    95,     8,    25,    77,    55,\n",
       "          96,     8,    82,    40,    58,    44, 20000])"
      ]
     },
     "execution_count": 10,
     "metadata": {},
     "output_type": "execute_result"
    }
   ],
   "source": [
    "np.append(a,20000)"
   ]
  },
  {
   "cell_type": "code",
   "execution_count": 11,
   "id": "596d1d91-4076-4dda-8bf0-05970809c6bb",
   "metadata": {},
   "outputs": [
    {
     "data": {
      "text/plain": [
       "array([[30, 64,  8, 48,  1,  2,  3,  4],\n",
       "       [67, 42, 21, 96,  5,  6,  7,  8],\n",
       "       [62,  9, 72, 55,  9, 10, 11, 12],\n",
       "       [37, 22, 38, 15, 13, 14, 15, 16],\n",
       "       [57, 41, 62, 81, 17, 18, 19, 20],\n",
       "       [36, 54, 48, 56, 21, 22, 23, 24]])"
      ]
     },
     "execution_count": 11,
     "metadata": {},
     "output_type": "execute_result"
    }
   ],
   "source": [
    "np.append(b,np.arange(1,25).reshape(6,4),axis=1)"
   ]
  },
  {
   "cell_type": "markdown",
   "id": "61d96569-7453-4de9-8570-3e0e41fc09b1",
   "metadata": {},
   "source": [
    "## np.concatenate -- ofcourse concatenates a sequence of aray along with an existing array\n",
    "## np.concatenate((a,b),axis=0,dtype)"
   ]
  },
  {
   "cell_type": "code",
   "execution_count": 12,
   "id": "8d177c6d-1a2d-4907-bcde-d28de773ce18",
   "metadata": {},
   "outputs": [],
   "source": [
    "c= np.arange(6).reshape(2,3)"
   ]
  },
  {
   "cell_type": "code",
   "execution_count": 13,
   "id": "9b84b8e9-401d-41f8-b9ec-d20daf69d65d",
   "metadata": {},
   "outputs": [],
   "source": [
    "d = np.arange(6,12).reshape(2,3)"
   ]
  },
  {
   "cell_type": "code",
   "execution_count": 14,
   "id": "f5a6100b-5558-420a-a2ae-ac6ea2d7b189",
   "metadata": {},
   "outputs": [
    {
     "data": {
      "text/plain": [
       "array([[0, 1, 2],\n",
       "       [3, 4, 5]])"
      ]
     },
     "execution_count": 14,
     "metadata": {},
     "output_type": "execute_result"
    }
   ],
   "source": [
    "c"
   ]
  },
  {
   "cell_type": "code",
   "execution_count": 15,
   "id": "8288a19d-5409-4152-9e9f-5671a28de351",
   "metadata": {},
   "outputs": [
    {
     "data": {
      "text/plain": [
       "array([[ 6,  7,  8],\n",
       "       [ 9, 10, 11]])"
      ]
     },
     "execution_count": 15,
     "metadata": {},
     "output_type": "execute_result"
    }
   ],
   "source": [
    "d"
   ]
  },
  {
   "cell_type": "code",
   "execution_count": 16,
   "id": "bb502629-28aa-4163-af4f-42856394d77d",
   "metadata": {},
   "outputs": [
    {
     "data": {
      "text/plain": [
       "array([[ 0,  1,  2],\n",
       "       [ 3,  4,  5],\n",
       "       [ 6,  7,  8],\n",
       "       [ 9, 10, 11]])"
      ]
     },
     "execution_count": 16,
     "metadata": {},
     "output_type": "execute_result"
    }
   ],
   "source": [
    "np.concatenate((c,d),axis=0)"
   ]
  },
  {
   "cell_type": "code",
   "execution_count": 17,
   "id": "e0cc4594-af21-4699-9d5b-5841833d895c",
   "metadata": {},
   "outputs": [
    {
     "data": {
      "text/plain": [
       "array([[ 0,  1,  2,  6,  7,  8],\n",
       "       [ 3,  4,  5,  9, 10, 11]])"
      ]
     },
     "execution_count": 17,
     "metadata": {},
     "output_type": "execute_result"
    }
   ],
   "source": [
    "np.concatenate((c,d),axis =1)"
   ]
  },
  {
   "cell_type": "code",
   "execution_count": 18,
   "id": "f1dba19e-0736-4478-82d5-ff48b85d88c5",
   "metadata": {},
   "outputs": [],
   "source": [
    "e=np.random.randint(1,100,25)"
   ]
  },
  {
   "cell_type": "code",
   "execution_count": 19,
   "id": "a7873e61-038e-48cd-80d1-1c3c937f4500",
   "metadata": {},
   "outputs": [],
   "source": [
    "f=np.random.randint(1,100,25)"
   ]
  },
  {
   "cell_type": "code",
   "execution_count": 20,
   "id": "6900caee-78cd-47bb-ba05-412bca3b6b6c",
   "metadata": {},
   "outputs": [],
   "source": [
    "g=np.concatenate((e,f),axis=0)"
   ]
  },
  {
   "cell_type": "code",
   "execution_count": 21,
   "id": "0cf59b54-8dad-43c8-86fd-e9a3b1b66bb1",
   "metadata": {},
   "outputs": [
    {
     "data": {
      "text/plain": [
       "array([ 2,  4, 10, 11, 12, 13, 15, 19, 20, 24, 25, 26, 32, 35, 37, 40, 43,\n",
       "       45, 48, 49, 50, 51, 52, 53, 55, 57, 67, 68, 69, 71, 73, 75, 81, 87,\n",
       "       88, 89, 93, 95, 99], dtype=int32)"
      ]
     },
     "execution_count": 21,
     "metadata": {},
     "output_type": "execute_result"
    }
   ],
   "source": [
    "np.unique(g)"
   ]
  },
  {
   "cell_type": "code",
   "execution_count": 22,
   "id": "7ed196b8-bce5-4beb-bdce-f85ee7c31b26",
   "metadata": {},
   "outputs": [
    {
     "data": {
      "text/plain": [
       "50"
      ]
     },
     "execution_count": 22,
     "metadata": {},
     "output_type": "execute_result"
    }
   ],
   "source": [
    "g.size"
   ]
  },
  {
   "cell_type": "code",
   "execution_count": 23,
   "id": "f83d38fe-bad3-4f20-a348-5eb4865b1d4e",
   "metadata": {},
   "outputs": [],
   "source": [
    "a=np.array([1,2,3,4,4,56,6,66,6,6,2,1,0])"
   ]
  },
  {
   "cell_type": "code",
   "execution_count": 24,
   "id": "8b8eb1dd-1bc3-4117-b15a-bf5131a173be",
   "metadata": {},
   "outputs": [
    {
     "data": {
      "text/plain": [
       "array([ 0,  1,  2,  3,  4,  6, 56, 66])"
      ]
     },
     "execution_count": 24,
     "metadata": {},
     "output_type": "execute_result"
    }
   ],
   "source": [
    "np.unique(a)"
   ]
  },
  {
   "cell_type": "markdown",
   "id": "7b92bdab-def0-4901-a57f-83972a6feacf",
   "metadata": {},
   "source": [
    "## np.expand_dims -we can expand demension of an array\n",
    "## why do we use expand_dims - see basically when we process our data in machine learning algorithms most of them expect data in more dimension so thats why we use expand dims to expand our data dimension"
   ]
  },
  {
   "cell_type": "code",
   "execution_count": 25,
   "id": "e731666a-efd9-4db1-924d-cd0c7de5462f",
   "metadata": {},
   "outputs": [
    {
     "data": {
      "text/plain": [
       "(13,)"
      ]
     },
     "execution_count": 25,
     "metadata": {},
     "output_type": "execute_result"
    }
   ],
   "source": [
    "a.shape"
   ]
  },
  {
   "cell_type": "code",
   "execution_count": 26,
   "id": "e9cb0dfe-f1e4-41c3-b7af-a7cc4e38f49a",
   "metadata": {},
   "outputs": [],
   "source": [
    "a=np.expand_dims(a,axis = 0)"
   ]
  },
  {
   "cell_type": "code",
   "execution_count": 27,
   "id": "5d17cb66-2ed7-4d3b-978d-b3a9e8bdec34",
   "metadata": {},
   "outputs": [
    {
     "data": {
      "text/plain": [
       "(1, 13)"
      ]
     },
     "execution_count": 27,
     "metadata": {},
     "output_type": "execute_result"
    }
   ],
   "source": [
    "np.shape(a)"
   ]
  },
  {
   "cell_type": "code",
   "execution_count": 28,
   "id": "b7f9bb53-72b9-44c4-ad52-72c05bf03d5e",
   "metadata": {},
   "outputs": [
    {
     "data": {
      "text/plain": [
       "array([[ 1,  2,  3,  4,  4, 56,  6, 66,  6,  6,  2,  1,  0]])"
      ]
     },
     "execution_count": 28,
     "metadata": {},
     "output_type": "execute_result"
    }
   ],
   "source": [
    "a"
   ]
  },
  {
   "cell_type": "code",
   "execution_count": 29,
   "id": "a201e3f1-a6d7-4c29-af25-193481c10fbd",
   "metadata": {},
   "outputs": [],
   "source": [
    "a=np.arange(1,11).reshape(5,2)"
   ]
  },
  {
   "cell_type": "code",
   "execution_count": 30,
   "id": "6c94ea39-c57a-4cc5-a1ac-ede5bece1e32",
   "metadata": {},
   "outputs": [
    {
     "data": {
      "text/plain": [
       "array([[ 1,  2],\n",
       "       [ 3,  4],\n",
       "       [ 5,  6],\n",
       "       [ 7,  8],\n",
       "       [ 9, 10]])"
      ]
     },
     "execution_count": 30,
     "metadata": {},
     "output_type": "execute_result"
    }
   ],
   "source": [
    "a"
   ]
  },
  {
   "cell_type": "code",
   "execution_count": 31,
   "id": "1e7dfd79-8eec-4379-b081-32bed94aa74d",
   "metadata": {},
   "outputs": [
    {
     "data": {
      "text/plain": [
       "(5, 2)"
      ]
     },
     "execution_count": 31,
     "metadata": {},
     "output_type": "execute_result"
    }
   ],
   "source": [
    "a.shape"
   ]
  },
  {
   "cell_type": "code",
   "execution_count": 32,
   "id": "48a9e9c2-ebae-4a8d-a2d3-4bde431cce74",
   "metadata": {},
   "outputs": [],
   "source": [
    "a=np.expand_dims(a,axis=0)"
   ]
  },
  {
   "cell_type": "code",
   "execution_count": 33,
   "id": "c6f44fbc-94ba-4ff0-8b45-8f38f369673e",
   "metadata": {},
   "outputs": [
    {
     "data": {
      "text/plain": [
       "(1, 5, 2)"
      ]
     },
     "execution_count": 33,
     "metadata": {},
     "output_type": "execute_result"
    }
   ],
   "source": [
    "a.shape"
   ]
  },
  {
   "cell_type": "code",
   "execution_count": 34,
   "id": "f8ab3ab4-ccc0-40ef-b19a-015ccde71663",
   "metadata": {},
   "outputs": [],
   "source": [
    "b=np.arange(1,11).reshape(5,2)"
   ]
  },
  {
   "cell_type": "code",
   "execution_count": 35,
   "id": "dbfab8d6-86ca-4245-8dc9-bed77556f68f",
   "metadata": {},
   "outputs": [
    {
     "data": {
      "text/plain": [
       "(5, 2)"
      ]
     },
     "execution_count": 35,
     "metadata": {},
     "output_type": "execute_result"
    }
   ],
   "source": [
    "b.shape"
   ]
  },
  {
   "cell_type": "code",
   "execution_count": 36,
   "id": "b5244c37-abd3-4eb3-8bc5-d869c6ca63e7",
   "metadata": {},
   "outputs": [],
   "source": [
    "b=np.expand_dims(b,axis = 1)"
   ]
  },
  {
   "cell_type": "code",
   "execution_count": 37,
   "id": "087668c6-ba46-4f51-9f8a-dc68978bb560",
   "metadata": {},
   "outputs": [
    {
     "data": {
      "text/plain": [
       "(5, 1, 2)"
      ]
     },
     "execution_count": 37,
     "metadata": {},
     "output_type": "execute_result"
    }
   ],
   "source": [
    "b.shape"
   ]
  },
  {
   "cell_type": "code",
   "execution_count": 38,
   "id": "46a8c176-5a95-4573-b1d1-e0fa39b7d0c6",
   "metadata": {},
   "outputs": [
    {
     "data": {
      "text/plain": [
       "array([[[ 1,  2]],\n",
       "\n",
       "       [[ 3,  4]],\n",
       "\n",
       "       [[ 5,  6]],\n",
       "\n",
       "       [[ 7,  8]],\n",
       "\n",
       "       [[ 9, 10]]])"
      ]
     },
     "execution_count": 38,
     "metadata": {},
     "output_type": "execute_result"
    }
   ],
   "source": [
    "b"
   ]
  },
  {
   "cell_type": "markdown",
   "id": "1ac71183-6999-4a76-b63d-643d4c297d99",
   "metadata": {},
   "source": [
    "## np.where return indices of element when certain condition is met."
   ]
  },
  {
   "cell_type": "code",
   "execution_count": 39,
   "id": "9d9671d1-d6f9-4d55-9895-34f3fdb59292",
   "metadata": {},
   "outputs": [
    {
     "data": {
      "text/plain": [
       "array([[[ 1,  2],\n",
       "        [ 3,  4],\n",
       "        [ 5,  6],\n",
       "        [ 7,  8],\n",
       "        [ 9, 10]]])"
      ]
     },
     "execution_count": 39,
     "metadata": {},
     "output_type": "execute_result"
    }
   ],
   "source": [
    "a"
   ]
  },
  {
   "cell_type": "code",
   "execution_count": 40,
   "id": "83fa0556-5566-4da5-b8f9-95e606c07c6a",
   "metadata": {},
   "outputs": [
    {
     "data": {
      "text/plain": [
       "(array([0, 0, 0, 0, 0, 0, 0, 0, 0]),\n",
       " array([0, 1, 1, 2, 2, 3, 3, 4, 4]),\n",
       " array([1, 0, 1, 0, 1, 0, 1, 0, 1]))"
      ]
     },
     "execution_count": 40,
     "metadata": {},
     "output_type": "execute_result"
    }
   ],
   "source": [
    "np.where(a>1)"
   ]
  },
  {
   "cell_type": "code",
   "execution_count": 41,
   "id": "7d7b6205-a6d9-4bdd-8120-346a11fa522e",
   "metadata": {},
   "outputs": [],
   "source": [
    "b=np.array([0,1,1,2,3,5,5])"
   ]
  },
  {
   "cell_type": "code",
   "execution_count": 42,
   "id": "aeebc83e-f1cd-48fd-80af-6dcd17a3d08e",
   "metadata": {},
   "outputs": [
    {
     "data": {
      "text/plain": [
       "(array([5, 6]),)"
      ]
     },
     "execution_count": 42,
     "metadata": {},
     "output_type": "execute_result"
    }
   ],
   "source": [
    "np.where(b>4)"
   ]
  },
  {
   "cell_type": "markdown",
   "id": "5ac6ed2e-1674-445e-b61b-955bc8584290",
   "metadata": {},
   "source": [
    "## in np.where we can replace values to if condition is met or not met  by this syntax > np.where(condition,true,false)"
   ]
  },
  {
   "cell_type": "code",
   "execution_count": 44,
   "id": "fabe1b3e-1a26-45d8-bd42-77613448f4d3",
   "metadata": {},
   "outputs": [
    {
     "data": {
      "text/plain": [
       "array([11, 11, 11, 11, 11, 10, 10])"
      ]
     },
     "execution_count": 44,
     "metadata": {},
     "output_type": "execute_result"
    }
   ],
   "source": [
    "np.where(b>4,10,11)"
   ]
  },
  {
   "cell_type": "markdown",
   "id": "38e81524-d51e-46c8-81e9-68ff873d1ec4",
   "metadata": {},
   "source": [
    "## np.argmax returns indices of the max element of the array in particular axis\n",
    "## np.argmin return indices of the min element of the array\n",
    "## syntax = np.argmax(arr, axis)"
   ]
  },
  {
   "cell_type": "code",
   "execution_count": 51,
   "id": "ab0ddaf0-d040-4e1b-8f83-6413617333c8",
   "metadata": {},
   "outputs": [
    {
     "data": {
      "text/plain": [
       "array([0, 1, 1, 2, 3, 5, 5])"
      ]
     },
     "execution_count": 51,
     "metadata": {},
     "output_type": "execute_result"
    }
   ],
   "source": [
    "b"
   ]
  },
  {
   "cell_type": "code",
   "execution_count": 52,
   "id": "6d2db483-690a-47cd-ae76-91620fde9ad8",
   "metadata": {},
   "outputs": [
    {
     "data": {
      "text/plain": [
       "np.int64(5)"
      ]
     },
     "execution_count": 52,
     "metadata": {},
     "output_type": "execute_result"
    }
   ],
   "source": [
    "np.argmax(b)"
   ]
  },
  {
   "cell_type": "code",
   "execution_count": 53,
   "id": "6809046b-e278-4cc1-8590-aabe6a0fdf82",
   "metadata": {},
   "outputs": [
    {
     "data": {
      "text/plain": [
       "np.int64(0)"
      ]
     },
     "execution_count": 53,
     "metadata": {},
     "output_type": "execute_result"
    }
   ],
   "source": [
    "np.argmin(b)"
   ]
  },
  {
   "cell_type": "markdown",
   "id": "09d9183e-b671-4d4c-a139-1dba983a8d3b",
   "metadata": {},
   "source": [
    "# some stats realative functions which are usefull"
   ]
  },
  {
   "cell_type": "markdown",
   "id": "f14baf59-4685-43bb-a11f-92e650eeb567",
   "metadata": {},
   "source": [
    "## np.cumsum = tells cummulative sum over a given array\n",
    "## np.cumprod = tell cummulative product over a given array\n",
    "### syntax = np.cumsum(arr, axis) 0 column and 1 row"
   ]
  },
  {
   "cell_type": "code",
   "execution_count": 64,
   "id": "aaae22bf-3434-4b44-87b5-a98fef32adb2",
   "metadata": {},
   "outputs": [],
   "source": [
    "b=np.arange(0,12).reshape(2,6)"
   ]
  },
  {
   "cell_type": "code",
   "execution_count": 65,
   "id": "bd57b9f9-fcaa-48d9-b49b-faa992843cb7",
   "metadata": {},
   "outputs": [
    {
     "data": {
      "text/plain": [
       "array([[ 0,  1,  2,  3,  4,  5],\n",
       "       [ 6,  7,  8,  9, 10, 11]])"
      ]
     },
     "execution_count": 65,
     "metadata": {},
     "output_type": "execute_result"
    }
   ],
   "source": [
    "b"
   ]
  },
  {
   "cell_type": "code",
   "execution_count": 66,
   "id": "d4f7018a-b862-482f-ac8d-6ef57ad14836",
   "metadata": {},
   "outputs": [
    {
     "data": {
      "text/plain": [
       "array([[ 0,  1,  2,  3,  4,  5],\n",
       "       [ 6,  8, 10, 12, 14, 16]])"
      ]
     },
     "execution_count": 66,
     "metadata": {},
     "output_type": "execute_result"
    }
   ],
   "source": [
    "\n",
    "np.cumsum(b,axis=0)"
   ]
  },
  {
   "cell_type": "code",
   "execution_count": 67,
   "id": "f43faa4b-5d5f-41ac-acb4-d1297dd26544",
   "metadata": {},
   "outputs": [
    {
     "data": {
      "text/plain": [
       "array([[ 0,  1,  2,  3,  4,  5],\n",
       "       [ 0,  7, 16, 27, 40, 55]])"
      ]
     },
     "execution_count": 67,
     "metadata": {},
     "output_type": "execute_result"
    }
   ],
   "source": [
    "np.cumprod(b,axis =0)"
   ]
  },
  {
   "cell_type": "code",
   "execution_count": 68,
   "id": "b10377be-7925-4f8c-bd41-9836d2f9b7da",
   "metadata": {},
   "outputs": [
    {
     "data": {
      "text/plain": [
       "array([[     0,      0,      0,      0,      0,      0],\n",
       "       [     6,     42,    336,   3024,  30240, 332640]])"
      ]
     },
     "execution_count": 68,
     "metadata": {},
     "output_type": "execute_result"
    }
   ],
   "source": [
    "np.cumprod(b,axis = 1)"
   ]
  },
  {
   "cell_type": "markdown",
   "id": "8dc9fd79-eb31-49b7-a60a-385acee3b32b",
   "metadata": {},
   "source": [
    "## np.percentile = gives nth percentile \n",
    "### syntax = np.percentile (arr, percentile value which we want)"
   ]
  },
  {
   "cell_type": "code",
   "execution_count": 72,
   "id": "79a0d940-2118-4abe-8ed2-ecba505846ba",
   "metadata": {},
   "outputs": [
    {
     "data": {
      "text/plain": [
       "np.float64(11.0)"
      ]
     },
     "execution_count": 72,
     "metadata": {},
     "output_type": "execute_result"
    }
   ],
   "source": [
    "np.percentile(b,100) # since we have 11 as bigest value in b . so be is the 100th percentile "
   ]
  },
  {
   "cell_type": "markdown",
   "id": "fb7b917f-3a86-4fea-99ff-f03f880b3e3d",
   "metadata": {},
   "source": [
    "## np.histogram gives data frequency amoung given bins \n",
    "### syntax  np.histogram(arr, bins=[])"
   ]
  },
  {
   "cell_type": "code",
   "execution_count": 74,
   "id": "d63005c3-8635-4cdc-bf4b-453d04bcd52f",
   "metadata": {},
   "outputs": [
    {
     "data": {
      "text/plain": [
       "(array([5, 5, 2]), array([ 0,  5, 10, 15]))"
      ]
     },
     "execution_count": 74,
     "metadata": {},
     "output_type": "execute_result"
    }
   ],
   "source": [
    "np.histogram(b, bins =[0,5,10,15])"
   ]
  },
  {
   "cell_type": "code",
   "execution_count": 75,
   "id": "8cdbeb6c-3a31-46aa-b317-8391db77df07",
   "metadata": {},
   "outputs": [
    {
     "data": {
      "text/plain": [
       "array([[ 0,  1,  2,  3,  4,  5],\n",
       "       [ 6,  7,  8,  9, 10, 11]])"
      ]
     },
     "execution_count": 75,
     "metadata": {},
     "output_type": "execute_result"
    }
   ],
   "source": [
    "b"
   ]
  },
  {
   "cell_type": "markdown",
   "id": "9f2c238b-fef6-4c37-8915-9b75e9186dec",
   "metadata": {},
   "source": [
    "## np.corrcoef - return corelation coefficient\n",
    "### corelation coefficient is nothing but it tell about how data are relative to each other for ex if corelation is 1 means if exp increases salary too increases . values ranges from -1 to 1 , -1 -> negatively corelated . 0 no corealtion , 1 positively co realted"
   ]
  },
  {
   "cell_type": "code",
   "execution_count": 76,
   "id": "647a5019-1bdc-4233-ade3-b3fd85232c3d",
   "metadata": {},
   "outputs": [],
   "source": [
    "a=np.array([20000,40000,25000,35000])\n",
    "b=np.array([1,3,2,4])"
   ]
  },
  {
   "cell_type": "code",
   "execution_count": 77,
   "id": "f3b74de9-c520-4fcf-a4b3-970e55dea537",
   "metadata": {},
   "outputs": [
    {
     "data": {
      "text/plain": [
       "array([[1.        , 0.84852814],\n",
       "       [0.84852814, 1.        ]])"
      ]
     },
     "execution_count": 77,
     "metadata": {},
     "output_type": "execute_result"
    }
   ],
   "source": [
    "np.corrcoef(a,b)"
   ]
  },
  {
   "cell_type": "markdown",
   "id": "a72a6769-eed6-402d-a53d-6665d08c0454",
   "metadata": {},
   "source": [
    "# normal utility function onwards\n",
    "## np.isin() - used to search for multiple item in an array\n",
    "## syntax = np.isin(arr , values list )"
   ]
  },
  {
   "cell_type": "code",
   "execution_count": 80,
   "id": "26f47f9a-5c7e-4ba5-aa47-879386329b83",
   "metadata": {},
   "outputs": [
    {
     "data": {
      "text/plain": [
       "array([20000, 40000, 25000, 35000])"
      ]
     },
     "execution_count": 80,
     "metadata": {},
     "output_type": "execute_result"
    }
   ],
   "source": [
    "a"
   ]
  },
  {
   "cell_type": "code",
   "execution_count": 81,
   "id": "7e01035e-e8fb-46aa-a29e-e567d550e7f7",
   "metadata": {},
   "outputs": [
    {
     "data": {
      "text/plain": [
       "array([ True, False, False, False])"
      ]
     },
     "execution_count": 81,
     "metadata": {},
     "output_type": "execute_result"
    }
   ],
   "source": [
    "s = [10,1000,20000]\n",
    "np.isin(a,s)"
   ]
  },
  {
   "cell_type": "code",
   "execution_count": 82,
   "id": "8a0443fb-c801-4d1b-a8f8-93c94c865da4",
   "metadata": {},
   "outputs": [
    {
     "data": {
      "text/plain": [
       "array([False, False, False, False])"
      ]
     },
     "execution_count": 82,
     "metadata": {},
     "output_type": "execute_result"
    }
   ],
   "source": [
    "np.isin(a,1000)"
   ]
  },
  {
   "cell_type": "code",
   "execution_count": 84,
   "id": "93bc89f5-90a5-4628-8323-7de62a70fdb4",
   "metadata": {},
   "outputs": [
    {
     "data": {
      "text/plain": [
       "array([20000])"
      ]
     },
     "execution_count": 84,
     "metadata": {},
     "output_type": "execute_result"
    }
   ],
   "source": [
    "# now suppose we want to store values which satisfied conditions \n",
    "a[np.isin(a,s)]\n",
    "#see we got only 20000 since only it satisfied the condition"
   ]
  },
  {
   "cell_type": "markdown",
   "id": "4640e79a-5bb2-427e-9302-073c32f4c311",
   "metadata": {},
   "source": [
    "## np.flip -flips the order of element"
   ]
  },
  {
   "cell_type": "code",
   "execution_count": 92,
   "id": "de7689a9-a688-4626-b06d-58c3c0b2cf8c",
   "metadata": {},
   "outputs": [],
   "source": [
    "a = np.random.randint(1,100,7)"
   ]
  },
  {
   "cell_type": "code",
   "execution_count": 93,
   "id": "37f468c1-a332-4dfc-bf87-50241ab65a22",
   "metadata": {},
   "outputs": [
    {
     "data": {
      "text/plain": [
       "array([82, 95, 54, 44, 87, 22, 34], dtype=int32)"
      ]
     },
     "execution_count": 93,
     "metadata": {},
     "output_type": "execute_result"
    }
   ],
   "source": [
    "a"
   ]
  },
  {
   "cell_type": "code",
   "execution_count": 94,
   "id": "df71f09a-8f73-4171-88bd-5baf2fd6b1df",
   "metadata": {},
   "outputs": [
    {
     "data": {
      "text/plain": [
       "array([34, 22, 87, 44, 54, 95, 82], dtype=int32)"
      ]
     },
     "execution_count": 94,
     "metadata": {},
     "output_type": "execute_result"
    }
   ],
   "source": [
    "np.flip(a)"
   ]
  },
  {
   "cell_type": "code",
   "execution_count": 95,
   "id": "795607c3-3233-4e59-baa3-2ffac114f902",
   "metadata": {},
   "outputs": [],
   "source": [
    "b = np.random.randint(1,100,18).reshape(3,6)"
   ]
  },
  {
   "cell_type": "code",
   "execution_count": 96,
   "id": "60e51664-028f-4d47-bd98-019549519a44",
   "metadata": {},
   "outputs": [
    {
     "data": {
      "text/plain": [
       "array([[97, 59,  4, 98, 57, 77],\n",
       "       [73, 83, 81, 43, 37, 37],\n",
       "       [82,  5, 39, 26, 10, 62]], dtype=int32)"
      ]
     },
     "execution_count": 96,
     "metadata": {},
     "output_type": "execute_result"
    }
   ],
   "source": [
    "b"
   ]
  },
  {
   "cell_type": "code",
   "execution_count": 97,
   "id": "0df748d9-3196-4712-a5e4-d540d11938c5",
   "metadata": {},
   "outputs": [
    {
     "data": {
      "text/plain": [
       "array([[62, 10, 26, 39,  5, 82],\n",
       "       [37, 37, 43, 81, 83, 73],\n",
       "       [77, 57, 98,  4, 59, 97]], dtype=int32)"
      ]
     },
     "execution_count": 97,
     "metadata": {},
     "output_type": "execute_result"
    }
   ],
   "source": [
    "np.flip(b)"
   ]
  },
  {
   "cell_type": "code",
   "execution_count": 98,
   "id": "d1f8af59-e8dc-4aaa-a652-ec6f1a576f49",
   "metadata": {},
   "outputs": [
    {
     "data": {
      "text/plain": [
       "array([[82,  5, 39, 26, 10, 62],\n",
       "       [73, 83, 81, 43, 37, 37],\n",
       "       [97, 59,  4, 98, 57, 77]], dtype=int32)"
      ]
     },
     "execution_count": 98,
     "metadata": {},
     "output_type": "execute_result"
    }
   ],
   "source": [
    "np.flip(b,axis=0)"
   ]
  },
  {
   "cell_type": "code",
   "execution_count": 99,
   "id": "e41b25c7-1687-40ac-89eb-8193a954321a",
   "metadata": {},
   "outputs": [
    {
     "data": {
      "text/plain": [
       "array([[77, 57, 98,  4, 59, 97],\n",
       "       [37, 37, 43, 81, 83, 73],\n",
       "       [62, 10, 26, 39,  5, 82]], dtype=int32)"
      ]
     },
     "execution_count": 99,
     "metadata": {},
     "output_type": "execute_result"
    }
   ],
   "source": [
    "np.flip(b,axis =1)"
   ]
  },
  {
   "cell_type": "markdown",
   "id": "cb913511-a2fb-4a11-b3c8-40864728a9da",
   "metadata": {},
   "source": [
    "## np.put  it replaces specific elements of array with given values of array"
   ]
  },
  {
   "cell_type": "code",
   "execution_count": 105,
   "id": "bfe920af-1b92-48ec-a67b-2b22f4ddd466",
   "metadata": {},
   "outputs": [
    {
     "data": {
      "text/plain": [
       "array([110, 540,  54,  44,  87,  22,  34], dtype=int32)"
      ]
     },
     "execution_count": 105,
     "metadata": {},
     "output_type": "execute_result"
    }
   ],
   "source": [
    "a"
   ]
  },
  {
   "cell_type": "code",
   "execution_count": 106,
   "id": "93925964-3f0b-4ca4-9de2-09dee7d1c566",
   "metadata": {},
   "outputs": [],
   "source": [
    "np.put(a,[0,1],[10,50])"
   ]
  },
  {
   "cell_type": "code",
   "execution_count": 107,
   "id": "85f5f163-a1ef-48a8-9a43-91eeee3051ce",
   "metadata": {},
   "outputs": [
    {
     "data": {
      "text/plain": [
       "array([10, 50, 54, 44, 87, 22, 34], dtype=int32)"
      ]
     },
     "execution_count": 107,
     "metadata": {},
     "output_type": "execute_result"
    }
   ],
   "source": [
    "a"
   ]
  },
  {
   "cell_type": "markdown",
   "id": "7fbf1683-df7c-4c9f-897e-cbc5cdc76095",
   "metadata": {},
   "source": [
    "## np.delete deletes elemments "
   ]
  },
  {
   "cell_type": "code",
   "execution_count": 109,
   "id": "5fdb3d52-1a68-4720-b647-9b39541dccd6",
   "metadata": {},
   "outputs": [
    {
     "data": {
      "text/plain": [
       "array([50, 54, 44, 87, 22, 34], dtype=int32)"
      ]
     },
     "execution_count": 109,
     "metadata": {},
     "output_type": "execute_result"
    }
   ],
   "source": [
    "np.delete(a,0)"
   ]
  },
  {
   "cell_type": "code",
   "execution_count": 111,
   "id": "5bbd05cf-eba5-44a1-996a-f45d67e771e9",
   "metadata": {},
   "outputs": [
    {
     "data": {
      "text/plain": [
       "array([44, 87, 22, 34], dtype=int32)"
      ]
     },
     "execution_count": 111,
     "metadata": {},
     "output_type": "execute_result"
    }
   ],
   "source": [
    "np.delete(a,[0,1,2],axis =0)"
   ]
  },
  {
   "cell_type": "markdown",
   "id": "f27478f8-c7c8-4eb1-901f-912e839545e0",
   "metadata": {},
   "source": [
    "# set functions now onwards\n",
    "## np.union1d\n",
    "## np.intersect1d\n",
    "## np.setdiff1d\n",
    "## np.setxor1d\n",
    "## np.in1d"
   ]
  },
  {
   "cell_type": "code",
   "execution_count": 114,
   "id": "27743b52-b9b2-40c7-92ac-6fd5b257d8d9",
   "metadata": {},
   "outputs": [],
   "source": [
    "a=np.random.randint(1,100,8)"
   ]
  },
  {
   "cell_type": "code",
   "execution_count": 115,
   "id": "f46dfa74-bd7a-4c22-b8bd-8065cc59113c",
   "metadata": {},
   "outputs": [],
   "source": [
    "b=np.random.randint(1,100,8)"
   ]
  },
  {
   "cell_type": "code",
   "execution_count": 116,
   "id": "10da9e30-4e82-4433-85c0-053b0b9b1727",
   "metadata": {},
   "outputs": [
    {
     "data": {
      "text/plain": [
       "array([78, 71, 67, 50,  4, 98,  4, 92], dtype=int32)"
      ]
     },
     "execution_count": 116,
     "metadata": {},
     "output_type": "execute_result"
    }
   ],
   "source": [
    "a\n"
   ]
  },
  {
   "cell_type": "code",
   "execution_count": 117,
   "id": "33f98543-4482-4097-a72e-f70992769c21",
   "metadata": {},
   "outputs": [
    {
     "data": {
      "text/plain": [
       "array([12, 98, 41, 64, 88, 96, 10, 21], dtype=int32)"
      ]
     },
     "execution_count": 117,
     "metadata": {},
     "output_type": "execute_result"
    }
   ],
   "source": [
    "b"
   ]
  },
  {
   "cell_type": "code",
   "execution_count": 119,
   "id": "e5cc7151-c50d-4b8b-991b-b647b556cade",
   "metadata": {},
   "outputs": [
    {
     "data": {
      "text/plain": [
       "array([ 4, 10, 12, 21, 41, 50, 64, 67, 71, 78, 88, 92, 96, 98],\n",
       "      dtype=int32)"
      ]
     },
     "execution_count": 119,
     "metadata": {},
     "output_type": "execute_result"
    }
   ],
   "source": [
    "np.union1d(a,b)"
   ]
  },
  {
   "cell_type": "code",
   "execution_count": 120,
   "id": "14a99f21-92b3-4a18-9c63-b8b6abb3d46a",
   "metadata": {},
   "outputs": [
    {
     "data": {
      "text/plain": [
       "array([98], dtype=int32)"
      ]
     },
     "execution_count": 120,
     "metadata": {},
     "output_type": "execute_result"
    }
   ],
   "source": [
    "np.intersect1d(a,b)"
   ]
  },
  {
   "cell_type": "code",
   "execution_count": 123,
   "id": "0447759c-e41a-472f-9192-d79448392895",
   "metadata": {},
   "outputs": [
    {
     "data": {
      "text/plain": [
       "array([ 4, 50, 67, 71, 78, 92], dtype=int32)"
      ]
     },
     "execution_count": 123,
     "metadata": {},
     "output_type": "execute_result"
    }
   ],
   "source": [
    "np.setdiff1d(a,b) # elements which are in a but not in b"
   ]
  },
  {
   "cell_type": "code",
   "execution_count": 126,
   "id": "e2fd81da-a6dc-4ba6-bf6a-7fe27190678f",
   "metadata": {},
   "outputs": [
    {
     "data": {
      "text/plain": [
       "array([ 4, 10, 12, 21, 41, 50, 64, 67, 71, 78, 88, 92, 96], dtype=int32)"
      ]
     },
     "execution_count": 126,
     "metadata": {},
     "output_type": "execute_result"
    }
   ],
   "source": [
    "np.setxor1d(a,b) #removes commmon element and keeps other element"
   ]
  },
  {
   "cell_type": "code",
   "execution_count": 129,
   "id": "b64a1743-bb2a-4318-8387-c7ae7f67e95f",
   "metadata": {},
   "outputs": [
    {
     "name": "stderr",
     "output_type": "stream",
     "text": [
      "C:\\Users\\Singh\\AppData\\Local\\Temp\\ipykernel_2792\\1506200059.py:1: DeprecationWarning: `in1d` is deprecated. Use `np.isin` instead.\n",
      "  np.in1d(a,1)\n"
     ]
    },
    {
     "data": {
      "text/plain": [
       "array([False, False, False, False, False, False, False, False])"
      ]
     },
     "execution_count": 129,
     "metadata": {},
     "output_type": "execute_result"
    }
   ],
   "source": [
    "np.in1d(a,1)"
   ]
  },
  {
   "cell_type": "markdown",
   "id": "d0d8522d-1bfa-49eb-87c1-dac2dc39970f",
   "metadata": {},
   "source": [
    "## np.clip - exchanges  values with min and max values of the  given range "
   ]
  },
  {
   "cell_type": "code",
   "execution_count": 133,
   "id": "8d331f9e-ac99-4073-966e-28e5b2d95e3a",
   "metadata": {},
   "outputs": [
    {
     "data": {
      "text/plain": [
       "array([78, 71, 67, 50,  4, 98,  4, 92], dtype=int32)"
      ]
     },
     "execution_count": 133,
     "metadata": {},
     "output_type": "execute_result"
    }
   ],
   "source": [
    "a"
   ]
  },
  {
   "cell_type": "code",
   "execution_count": 134,
   "id": "b53cb83a-8cb6-428c-a412-67497d2685f8",
   "metadata": {},
   "outputs": [
    {
     "data": {
      "text/plain": [
       "array([50, 50, 50, 50, 24, 50, 24, 50], dtype=int32)"
      ]
     },
     "execution_count": 134,
     "metadata": {},
     "output_type": "execute_result"
    }
   ],
   "source": [
    "np.clip(a,a_min=24, a_max=50)"
   ]
  },
  {
   "cell_type": "code",
   "execution_count": null,
   "id": "21439037-1a92-46ef-ac02-fca3991c7589",
   "metadata": {},
   "outputs": [],
   "source": []
  }
 ],
 "metadata": {
  "kernelspec": {
   "display_name": "Python 3 (ipykernel)",
   "language": "python",
   "name": "python3"
  },
  "language_info": {
   "codemirror_mode": {
    "name": "ipython",
    "version": 3
   },
   "file_extension": ".py",
   "mimetype": "text/x-python",
   "name": "python",
   "nbconvert_exporter": "python",
   "pygments_lexer": "ipython3",
   "version": "3.10.0"
  }
 },
 "nbformat": 4,
 "nbformat_minor": 5
}
