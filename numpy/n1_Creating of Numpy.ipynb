{
 "cells": [
  {
   "cell_type": "markdown",
   "id": "5867ed63-093d-4f80-b88d-bba8411927c7",
   "metadata": {},
   "source": [
    "# what is exactly numpy? \n",
    "\n",
    "#### it is fundamental package for mathematical computing in python\n",
    "\n",
    "#### it is a library based on c for performance since in data science or machine learning we generally get large size dataset so we\n",
    "#### require good performance\n",
    "\n",
    "#### at core numpy is a n dimensional array(np array) of homogenous data types"
   ]
  },
  {
   "cell_type": "markdown",
   "id": "d932da3f-e4f9-4272-b933-cd12200cd644",
   "metadata": {},
   "source": [
    "# then what is difference between python list and np array?\n",
    "#### list is dynamic but np array has fixed size.changing size of array will delete the original array and create new array.\n",
    "\n",
    "#### in np array all elements are required to be of same data type "
   ]
  },
  {
   "cell_type": "code",
   "execution_count": 1,
   "id": "984c1e7e-86aa-49a7-9803-3e9638ad0949",
   "metadata": {},
   "outputs": [],
   "source": [
    "import numpy as np"
   ]
  },
  {
   "cell_type": "code",
   "execution_count": 2,
   "id": "789060dc-e5b6-43e5-a9f4-0393a07e12b6",
   "metadata": {},
   "outputs": [
    {
     "data": {
      "text/plain": [
       "<function numpy.array>"
      ]
     },
     "execution_count": 2,
     "metadata": {},
     "output_type": "execute_result"
    }
   ],
   "source": [
    "np.array"
   ]
  },
  {
   "cell_type": "code",
   "execution_count": 4,
   "id": "08fe1c21-70ae-45bb-8337-93b4f922d1ea",
   "metadata": {},
   "outputs": [],
   "source": [
    "a= np.array([1,2,3])"
   ]
  },
  {
   "cell_type": "code",
   "execution_count": 6,
   "id": "4a6f6d1c-6270-4765-b7eb-d08189b97740",
   "metadata": {},
   "outputs": [
    {
     "data": {
      "text/plain": [
       "numpy.ndarray"
      ]
     },
     "execution_count": 6,
     "metadata": {},
     "output_type": "execute_result"
    }
   ],
   "source": [
    "a\n",
    "type(a)"
   ]
  },
  {
   "cell_type": "markdown",
   "id": "3b6ba3de-74b5-45eb-8bf1-6c58421fc492",
   "metadata": {},
   "source": [
    "# 2d array\n"
   ]
  },
  {
   "cell_type": "code",
   "execution_count": 25,
   "id": "7fe2daa1-0a04-4efa-8c22-4f8facec3fbd",
   "metadata": {},
   "outputs": [
    {
     "data": {
      "text/plain": [
       "array([[1, 3, 3],\n",
       "       [1, 2, 3]])"
      ]
     },
     "execution_count": 25,
     "metadata": {},
     "output_type": "execute_result"
    }
   ],
   "source": [
    "# in numpy the dimension of array depends on number of nested list for an example ([]) 1d , ([[]]) 2d , 3d? you can figure it out ehh? \n",
    "a=np.array([[1,3,3],[1,2,3]])\n",
    "a"
   ]
  },
  {
   "cell_type": "code",
   "execution_count": 21,
   "id": "82c5c3f0-64dc-45fc-b15c-a57761d1fcd2",
   "metadata": {},
   "outputs": [
    {
     "data": {
      "text/plain": [
       "array([[1, 2, 3],\n",
       "       [4, 5, 6],\n",
       "       [7, 8, 9]])"
      ]
     },
     "execution_count": 21,
     "metadata": {},
     "output_type": "execute_result"
    }
   ],
   "source": [
    "# 3d array\n",
    "a=np.array([[1,2,3],[4,5,6],[7,8,9]])\n",
    "a"
   ]
  },
  {
   "cell_type": "code",
   "execution_count": 19,
   "id": "d96df85c-830d-4574-920a-676dd663a578",
   "metadata": {},
   "outputs": [
    {
     "data": {
      "text/plain": [
       "2"
      ]
     },
     "execution_count": 19,
     "metadata": {},
     "output_type": "execute_result"
    }
   ],
   "source": [
    "a.ndim"
   ]
  },
  {
   "cell_type": "markdown",
   "id": "4732256a-9b23-4999-aae9-96f985d67e34",
   "metadata": {},
   "source": [
    "# 3d array"
   ]
  },
  {
   "cell_type": "code",
   "execution_count": 22,
   "id": "74b62cd3-f3b6-40b6-a51e-ff4d243659cc",
   "metadata": {},
   "outputs": [],
   "source": [
    "a=np.array([[[1,2],[2,3],[3,4]]])"
   ]
  },
  {
   "cell_type": "code",
   "execution_count": 23,
   "id": "b20e22c0-f023-48e7-afc3-d384df2cf909",
   "metadata": {},
   "outputs": [
    {
     "data": {
      "text/plain": [
       "array([[[1, 2],\n",
       "        [2, 3],\n",
       "        [3, 4]]])"
      ]
     },
     "execution_count": 23,
     "metadata": {},
     "output_type": "execute_result"
    }
   ],
   "source": [
    "a"
   ]
  },
  {
   "cell_type": "code",
   "execution_count": 24,
   "id": "e2559cc6-5db1-4392-9d41-b1d0232fe916",
   "metadata": {},
   "outputs": [
    {
     "data": {
      "text/plain": [
       "3"
      ]
     },
     "execution_count": 24,
     "metadata": {},
     "output_type": "execute_result"
    }
   ],
   "source": [
    "a.ndim"
   ]
  },
  {
   "cell_type": "markdown",
   "id": "b5c201e1-6b8c-4722-9c5f-c24c30c14453",
   "metadata": {},
   "source": [
    "# let try 4d array"
   ]
  },
  {
   "cell_type": "code",
   "execution_count": 26,
   "id": "32a5a456-cbfd-448c-af60-c265f8401745",
   "metadata": {},
   "outputs": [],
   "source": [
    "a = np.array([[[[1,2],[3,4],[5,6]]]])"
   ]
  },
  {
   "cell_type": "code",
   "execution_count": 27,
   "id": "59a3343f-be33-48bb-a00a-5c26c0354910",
   "metadata": {},
   "outputs": [
    {
     "data": {
      "text/plain": [
       "array([[[[1, 2],\n",
       "         [3, 4],\n",
       "         [5, 6]]]])"
      ]
     },
     "execution_count": 27,
     "metadata": {},
     "output_type": "execute_result"
    }
   ],
   "source": [
    "a"
   ]
  },
  {
   "cell_type": "code",
   "execution_count": 28,
   "id": "1d6aa7a0-3716-422b-913c-68676a2d72dc",
   "metadata": {},
   "outputs": [
    {
     "data": {
      "text/plain": [
       "4"
      ]
     },
     "execution_count": 28,
     "metadata": {},
     "output_type": "execute_result"
    }
   ],
   "source": [
    "a.ndim"
   ]
  },
  {
   "cell_type": "markdown",
   "id": "0ce6f93d-1b38-4f33-a7b4-13924b3dd9f5",
   "metadata": {},
   "source": [
    "## 1d nparray is known as vector , 2d -> matrix ,3d ->tensor and above tensor\n",
    "\n",
    "### now we will change dtype of nparray"
   ]
  },
  {
   "cell_type": "code",
   "execution_count": 32,
   "id": "c50f9732-9207-4b90-b45f-e3518d62d9bf",
   "metadata": {},
   "outputs": [],
   "source": [
    "a= np.array([1,2,3],dtype=str)"
   ]
  },
  {
   "cell_type": "code",
   "execution_count": 33,
   "id": "cb63b72c-224f-447c-91ca-a7cdbc535ddb",
   "metadata": {},
   "outputs": [
    {
     "data": {
      "text/plain": [
       "array(['1', '2', '3'], dtype='<U1')"
      ]
     },
     "execution_count": 33,
     "metadata": {},
     "output_type": "execute_result"
    }
   ],
   "source": [
    "a"
   ]
  },
  {
   "cell_type": "code",
   "execution_count": 34,
   "id": "ca8a7cd6-d229-4ba3-a452-73a1479dff18",
   "metadata": {},
   "outputs": [],
   "source": [
    "a=np.array([[[1,2,3],[2,3,3]]],dtype=float)"
   ]
  },
  {
   "cell_type": "code",
   "execution_count": 35,
   "id": "ad8e2e0d-60f2-4d37-80e2-450f97be449d",
   "metadata": {},
   "outputs": [
    {
     "data": {
      "text/plain": [
       "array([[[1., 2., 3.],\n",
       "        [2., 3., 3.]]])"
      ]
     },
     "execution_count": 35,
     "metadata": {},
     "output_type": "execute_result"
    }
   ],
   "source": [
    "a"
   ]
  },
  {
   "cell_type": "markdown",
   "id": "591d6821-d7e6-4aaa-a442-0ad34574c940",
   "metadata": {},
   "source": [
    "# other way to declare array is np.arange  this basically work likes range func"
   ]
  },
  {
   "cell_type": "code",
   "execution_count": 37,
   "id": "8bf1c5c4-6bea-4fed-804f-70acb596e1c7",
   "metadata": {},
   "outputs": [],
   "source": [
    "#arange till 10\n",
    "a= np.arange(1,11)"
   ]
  },
  {
   "cell_type": "code",
   "execution_count": 38,
   "id": "625b6643-2c20-4867-9742-72712180e4ac",
   "metadata": {},
   "outputs": [
    {
     "data": {
      "text/plain": [
       "array([ 1,  2,  3,  4,  5,  6,  7,  8,  9, 10])"
      ]
     },
     "execution_count": 38,
     "metadata": {},
     "output_type": "execute_result"
    }
   ],
   "source": [
    "a"
   ]
  },
  {
   "cell_type": "code",
   "execution_count": 39,
   "id": "2f9d6cdb-9a4a-4627-b1f4-fed801da1eb2",
   "metadata": {},
   "outputs": [],
   "source": [
    "#arange till 10 with steps as 2\n",
    "a=np.arange(1,11,2)"
   ]
  },
  {
   "cell_type": "code",
   "execution_count": 40,
   "id": "205cc1c7-5f82-4b9c-b0fd-f9b86f4f636d",
   "metadata": {},
   "outputs": [
    {
     "data": {
      "text/plain": [
       "array([1, 3, 5, 7, 9])"
      ]
     },
     "execution_count": 40,
     "metadata": {},
     "output_type": "execute_result"
    }
   ],
   "source": [
    "a"
   ]
  },
  {
   "cell_type": "code",
   "execution_count": 41,
   "id": "50ba0bbb-3323-4eaa-a4dc-b58f9786e86b",
   "metadata": {},
   "outputs": [],
   "source": [
    "#arange fucntion with reshape \n",
    "a=np.arange(1,11).reshape(5,2)"
   ]
  },
  {
   "cell_type": "code",
   "execution_count": 42,
   "id": "edab3f37-e20c-4830-8b46-38dbe5586ea9",
   "metadata": {},
   "outputs": [
    {
     "data": {
      "text/plain": [
       "array([[ 1,  2],\n",
       "       [ 3,  4],\n",
       "       [ 5,  6],\n",
       "       [ 7,  8],\n",
       "       [ 9, 10]])"
      ]
     },
     "execution_count": 42,
     "metadata": {},
     "output_type": "execute_result"
    }
   ],
   "source": [
    "a"
   ]
  },
  {
   "cell_type": "code",
   "execution_count": 44,
   "id": "49159128-91ec-4068-97b8-00cb1acdbc81",
   "metadata": {},
   "outputs": [],
   "source": [
    "# or we can reshape into 2,5  basically row * columns should be equal to number of elements\n",
    "a=np.arange(1,13).reshape(2,6)"
   ]
  },
  {
   "cell_type": "code",
   "execution_count": 45,
   "id": "7ab96561-ba58-455d-af93-8dc7e0cf6c53",
   "metadata": {},
   "outputs": [
    {
     "data": {
      "text/plain": [
       "array([[ 1,  2,  3,  4,  5,  6],\n",
       "       [ 7,  8,  9, 10, 11, 12]])"
      ]
     },
     "execution_count": 45,
     "metadata": {},
     "output_type": "execute_result"
    }
   ],
   "source": [
    "a"
   ]
  },
  {
   "cell_type": "code",
   "execution_count": 46,
   "id": "9101b74f-42ec-444d-bf27-55938ce92953",
   "metadata": {},
   "outputs": [
    {
     "data": {
      "text/plain": [
       "array([[ 1,  2],\n",
       "       [ 3,  4],\n",
       "       [ 5,  6],\n",
       "       [ 7,  8],\n",
       "       [ 9, 10],\n",
       "       [11, 12]])"
      ]
     },
     "execution_count": 46,
     "metadata": {},
     "output_type": "execute_result"
    }
   ],
   "source": [
    "a.reshape(6,2)"
   ]
  },
  {
   "cell_type": "code",
   "execution_count": 47,
   "id": "44a52dbf-072b-4a68-9693-36b88e71a6cd",
   "metadata": {},
   "outputs": [
    {
     "data": {
      "text/plain": [
       "array([[ 1,  2,  3],\n",
       "       [ 4,  5,  6],\n",
       "       [ 7,  8,  9],\n",
       "       [10, 11, 12]])"
      ]
     },
     "execution_count": 47,
     "metadata": {},
     "output_type": "execute_result"
    }
   ],
   "source": [
    "a.reshape(4,3)"
   ]
  },
  {
   "cell_type": "code",
   "execution_count": 48,
   "id": "976402d7-99ff-4a79-b895-023d4b88119a",
   "metadata": {},
   "outputs": [
    {
     "data": {
      "text/plain": [
       "array([[ 1,  2,  3,  4],\n",
       "       [ 5,  6,  7,  8],\n",
       "       [ 9, 10, 11, 12]])"
      ]
     },
     "execution_count": 48,
     "metadata": {},
     "output_type": "execute_result"
    }
   ],
   "source": [
    "a.reshape(3,4)"
   ]
  },
  {
   "cell_type": "markdown",
   "id": "92e7a884-1c09-4493-8bba-75a8a6b42b61",
   "metadata": {},
   "source": [
    "### np.ones and np.zeros these two are used to quickly initialize array "
   ]
  },
  {
   "cell_type": "code",
   "execution_count": 52,
   "id": "a30cc075-fa78-484e-860f-872eda8c05c0",
   "metadata": {},
   "outputs": [],
   "source": [
    "a=np.ones((3,5))"
   ]
  },
  {
   "cell_type": "code",
   "execution_count": 53,
   "id": "cdaef8d6-94c6-44ca-a5d8-c998af7e9d59",
   "metadata": {},
   "outputs": [],
   "source": [
    "b=np.ones(((5,4))"
   ]
  },
  {
   "cell_type": "code",
   "execution_count": 56,
   "id": "ef9ae187-3df3-42a9-944b-6e4a727f76c7",
   "metadata": {},
   "outputs": [
    {
     "data": {
      "text/plain": [
       "array([[1., 1., 1., 1., 1.],\n",
       "       [1., 1., 1., 1., 1.],\n",
       "       [1., 1., 1., 1., 1.]])"
      ]
     },
     "execution_count": 56,
     "metadata": {},
     "output_type": "execute_result"
    }
   ],
   "source": [
    "a"
   ]
  },
  {
   "cell_type": "code",
   "execution_count": 57,
   "id": "19065719-1610-4f9f-b704-e4b3901fb71c",
   "metadata": {},
   "outputs": [
    {
     "data": {
      "text/plain": [
       "array([[1., 1., 1., 1.],\n",
       "       [1., 1., 1., 1.],\n",
       "       [1., 1., 1., 1.],\n",
       "       [1., 1., 1., 1.],\n",
       "       [1., 1., 1., 1.]])"
      ]
     },
     "execution_count": 57,
     "metadata": {},
     "output_type": "execute_result"
    }
   ],
   "source": [
    "b"
   ]
  },
  {
   "cell_type": "code",
   "execution_count": 59,
   "id": "66458a10-7ed5-4da4-989d-0d3fac1f6599",
   "metadata": {},
   "outputs": [
    {
     "data": {
      "text/plain": [
       "array([[0., 0., 0., 0.],\n",
       "       [0., 0., 0., 0.],\n",
       "       [0., 0., 0., 0.]])"
      ]
     },
     "execution_count": 59,
     "metadata": {},
     "output_type": "execute_result"
    }
   ],
   "source": [
    "np.zeros((3,4))"
   ]
  },
  {
   "cell_type": "markdown",
   "id": "697f66c3-16bc-4457-a522-a147223890fa",
   "metadata": {},
   "source": [
    "### there is also one fucntion named as np.random this is used to quickly initialize array with random given value range"
   ]
  },
  {
   "cell_type": "code",
   "execution_count": 63,
   "id": "9dc27bc5-1dab-4901-9353-5d522e277cfb",
   "metadata": {},
   "outputs": [
    {
     "data": {
      "text/plain": [
       "array([[0.60449253, 0.98524507, 0.15179005],\n",
       "       [0.62014169, 0.82293399, 0.94392573],\n",
       "       [0.13752956, 0.54198922, 0.69528937],\n",
       "       [0.20505231, 0.43773553, 0.40976503]])"
      ]
     },
     "execution_count": 63,
     "metadata": {},
     "output_type": "execute_result"
    }
   ],
   "source": [
    "np.random.random((4,3))"
   ]
  },
  {
   "cell_type": "markdown",
   "id": "20d06183-e051-4f66-93de-7fb148b64346",
   "metadata": {},
   "source": [
    "### other way to declare an array is np.linspace"
   ]
  },
  {
   "cell_type": "code",
   "execution_count": 65,
   "id": "3d1057b0-4ba2-4b43-bd26-b83408c96add",
   "metadata": {},
   "outputs": [
    {
     "data": {
      "text/plain": [
       "array([ 1.,  4.,  7., 10.])"
      ]
     },
     "execution_count": 65,
     "metadata": {},
     "output_type": "execute_result"
    }
   ],
   "source": [
    "np.linspace(1,10,4) #(lower range , upper range , numberr of elements)\n"
   ]
  },
  {
   "cell_type": "markdown",
   "id": "0e6f0313-9133-414a-84c6-e02fdcf6bba2",
   "metadata": {},
   "source": [
    "#### basically what it does is it creates elements with distance between two elements same that why its named as linspace"
   ]
  },
  {
   "cell_type": "markdown",
   "id": "329b1a12-60ef-4b4d-884a-52bf9d90a87f",
   "metadata": {},
   "source": [
    "### other we have is np.identity this is used to create identity matrix instantly"
   ]
  },
  {
   "cell_type": "code",
   "execution_count": 67,
   "id": "302733e0-a50d-4a96-9130-4b4e8af5afdb",
   "metadata": {},
   "outputs": [],
   "source": [
    "a=np.identity(4)"
   ]
  },
  {
   "cell_type": "code",
   "execution_count": 68,
   "id": "b5dd318c-9088-450e-acb5-9550ff942239",
   "metadata": {},
   "outputs": [
    {
     "data": {
      "text/plain": [
       "array([[1., 0., 0., 0.],\n",
       "       [0., 1., 0., 0.],\n",
       "       [0., 0., 1., 0.],\n",
       "       [0., 0., 0., 1.]])"
      ]
     },
     "execution_count": 68,
     "metadata": {},
     "output_type": "execute_result"
    }
   ],
   "source": [
    "a"
   ]
  },
  {
   "cell_type": "code",
   "execution_count": null,
   "id": "d3022e1e-c4de-4e53-a393-ca9e2ab306b4",
   "metadata": {},
   "outputs": [],
   "source": []
  }
 ],
 "metadata": {
  "kernelspec": {
   "display_name": "Python 3 (ipykernel)",
   "language": "python",
   "name": "python3"
  },
  "language_info": {
   "codemirror_mode": {
    "name": "ipython",
    "version": 3
   },
   "file_extension": ".py",
   "mimetype": "text/x-python",
   "name": "python",
   "nbconvert_exporter": "python",
   "pygments_lexer": "ipython3",
   "version": "3.13.0"
  }
 },
 "nbformat": 4,
 "nbformat_minor": 5
}
