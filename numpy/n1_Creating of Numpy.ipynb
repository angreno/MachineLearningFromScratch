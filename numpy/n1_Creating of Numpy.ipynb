{
 "cells": [
  {
   "cell_type": "markdown",
   "id": "5867ed63-093d-4f80-b88d-bba8411927c7",
   "metadata": {},
   "source": [
    "# what is exactly numpy? \n",
    "\n",
    "#### it is fundamental package for mathematical computing in python\n",
    "\n",
    "#### it is a library based on c for performance. since in data science or machine learning we generally get large size dataset so we\n",
    "#### require good performance.\n",
    "\n",
    "#### At core numpy is a n dimensional array(np array) of homogenous data types"
   ]
  },
  {
   "cell_type": "markdown",
   "id": "d932da3f-e4f9-4272-b933-cd12200cd644",
   "metadata": {},
   "source": [
    "# then what is difference between python list and np array?\n",
    "#### list is dynamic but np array has fixed size.changing size of array will delete the original array and create new array.\n",
    "\n",
    "#### in np array all elements are required to be of same data type "
   ]
  },
  {
   "cell_type": "code",
   "execution_count": 1,
   "id": "984c1e7e-86aa-49a7-9803-3e9638ad0949",
   "metadata": {},
   "outputs": [],
   "source": [
    "import numpy as np"
   ]
  },
  {
   "cell_type": "code",
   "execution_count": 2,
   "id": "789060dc-e5b6-43e5-a9f4-0393a07e12b6",
   "metadata": {},
   "outputs": [
    {
     "data": {
      "text/plain": [
       "<function numpy.array>"
      ]
     },
     "execution_count": 2,
     "metadata": {},
     "output_type": "execute_result"
    }
   ],
   "source": [
    "np.array"
   ]
  },
  {
   "cell_type": "code",
   "execution_count": 4,
   "id": "08fe1c21-70ae-45bb-8337-93b4f922d1ea",
   "metadata": {},
   "outputs": [],
   "source": [
    "a= np.array([1,2,3])"
   ]
  },
  {
   "cell_type": "code",
   "execution_count": 6,
   "id": "4a6f6d1c-6270-4765-b7eb-d08189b97740",
   "metadata": {},
   "outputs": [
    {
     "data": {
      "text/plain": [
       "numpy.ndarray"
      ]
     },
     "execution_count": 6,
     "metadata": {},
     "output_type": "execute_result"
    }
   ],
   "source": [
    "a\n",
    "type(a)"
   ]
  },
  {
   "cell_type": "markdown",
   "id": "3b6ba3de-74b5-45eb-8bf1-6c58421fc492",
   "metadata": {},
   "source": [
    "# 2d array\n"
   ]
  },
  {
   "cell_type": "code",
   "execution_count": 25,
   "id": "7fe2daa1-0a04-4efa-8c22-4f8facec3fbd",
   "metadata": {},
   "outputs": [
    {
     "data": {
      "text/plain": [
       "array([[1, 3, 3],\n",
       "       [1, 2, 3]])"
      ]
     },
     "execution_count": 25,
     "metadata": {},
     "output_type": "execute_result"
    }
   ],
   "source": [
    "# in numpy the dimension of array depends on number of nested list for an example ([]) 1d , ([[]]) 2d , 3d? you can figure it out ehh? \n",
    "a=np.array([[1,3,3],[1,2,3]])\n",
    "a"
   ]
  },
  {
   "cell_type": "code",
   "execution_count": 21,
   "id": "82c5c3f0-64dc-45fc-b15c-a57761d1fcd2",
   "metadata": {},
   "outputs": [
    {
     "data": {
      "text/plain": [
       "array([[1, 2, 3],\n",
       "       [4, 5, 6],\n",
       "       [7, 8, 9]])"
      ]
     },
     "execution_count": 21,
     "metadata": {},
     "output_type": "execute_result"
    }
   ],
   "source": [
    "# 3d array\n",
    "a=np.array([[1,2,3],[4,5,6],[7,8,9]])\n",
    "a"
   ]
  },
  {
   "cell_type": "code",
   "execution_count": 19,
   "id": "d96df85c-830d-4574-920a-676dd663a578",
   "metadata": {},
   "outputs": [
    {
     "data": {
      "text/plain": [
       "2"
      ]
     },
     "execution_count": 19,
     "metadata": {},
     "output_type": "execute_result"
    }
   ],
   "source": [
    "a.ndim"
   ]
  },
  {
   "cell_type": "markdown",
   "id": "4732256a-9b23-4999-aae9-96f985d67e34",
   "metadata": {},
   "source": [
    "# 3d array"
   ]
  },
  {
   "cell_type": "code",
   "execution_count": 22,
   "id": "74b62cd3-f3b6-40b6-a51e-ff4d243659cc",
   "metadata": {},
   "outputs": [],
   "source": [
    "a=np.array([[[1,2],[2,3],[3,4]]])"
   ]
  },
  {
   "cell_type": "code",
   "execution_count": 23,
   "id": "b20e22c0-f023-48e7-afc3-d384df2cf909",
   "metadata": {},
   "outputs": [
    {
     "data": {
      "text/plain": [
       "array([[[1, 2],\n",
       "        [2, 3],\n",
       "        [3, 4]]])"
      ]
     },
     "execution_count": 23,
     "metadata": {},
     "output_type": "execute_result"
    }
   ],
   "source": [
    "a"
   ]
  },
  {
   "cell_type": "code",
   "execution_count": 24,
   "id": "e2559cc6-5db1-4392-9d41-b1d0232fe916",
   "metadata": {},
   "outputs": [
    {
     "data": {
      "text/plain": [
       "3"
      ]
     },
     "execution_count": 24,
     "metadata": {},
     "output_type": "execute_result"
    }
   ],
   "source": [
    "a.ndim"
   ]
  },
  {
   "cell_type": "markdown",
   "id": "b5c201e1-6b8c-4722-9c5f-c24c30c14453",
   "metadata": {},
   "source": [
    "# let try 4d array"
   ]
  },
  {
   "cell_type": "code",
   "execution_count": 26,
   "id": "32a5a456-cbfd-448c-af60-c265f8401745",
   "metadata": {},
   "outputs": [],
   "source": [
    "a = np.array([[[[1,2],[3,4],[5,6]]]])"
   ]
  },
  {
   "cell_type": "code",
   "execution_count": 27,
   "id": "59a3343f-be33-48bb-a00a-5c26c0354910",
   "metadata": {},
   "outputs": [
    {
     "data": {
      "text/plain": [
       "array([[[[1, 2],\n",
       "         [3, 4],\n",
       "         [5, 6]]]])"
      ]
     },
     "execution_count": 27,
     "metadata": {},
     "output_type": "execute_result"
    }
   ],
   "source": [
    "a"
   ]
  },
  {
   "cell_type": "code",
   "execution_count": 28,
   "id": "1d6aa7a0-3716-422b-913c-68676a2d72dc",
   "metadata": {},
   "outputs": [
    {
     "data": {
      "text/plain": [
       "4"
      ]
     },
     "execution_count": 28,
     "metadata": {},
     "output_type": "execute_result"
    }
   ],
   "source": [
    "a.ndim"
   ]
  },
  {
   "cell_type": "markdown",
   "id": "0ce6f93d-1b38-4f33-a7b4-13924b3dd9f5",
   "metadata": {},
   "source": [
    "## 1d nparray is known as vector , 2d -> matrix ,3d ->tensor and above tensor\n",
    "\n",
    "### now we will change dtype of nparray"
   ]
  },
  {
   "cell_type": "code",
   "execution_count": 32,
   "id": "c50f9732-9207-4b90-b45f-e3518d62d9bf",
   "metadata": {},
   "outputs": [],
   "source": [
    "a= np.array([1,2,3],dtype=str)"
   ]
  },
  {
   "cell_type": "code",
   "execution_count": 33,
   "id": "cb63b72c-224f-447c-91ca-a7cdbc535ddb",
   "metadata": {},
   "outputs": [
    {
     "data": {
      "text/plain": [
       "array(['1', '2', '3'], dtype='<U1')"
      ]
     },
     "execution_count": 33,
     "metadata": {},
     "output_type": "execute_result"
    }
   ],
   "source": [
    "a"
   ]
  },
  {
   "cell_type": "code",
   "execution_count": 34,
   "id": "ca8a7cd6-d229-4ba3-a452-73a1479dff18",
   "metadata": {},
   "outputs": [],
   "source": [
    "a=np.array([[[1,2,3],[2,3,3]]],dtype=float)"
   ]
  },
  {
   "cell_type": "code",
   "execution_count": 35,
   "id": "ad8e2e0d-60f2-4d37-80e2-450f97be449d",
   "metadata": {},
   "outputs": [
    {
     "data": {
      "text/plain": [
       "array([[[1., 2., 3.],\n",
       "        [2., 3., 3.]]])"
      ]
     },
     "execution_count": 35,
     "metadata": {},
     "output_type": "execute_result"
    }
   ],
   "source": [
    "a"
   ]
  },
  {
   "cell_type": "markdown",
   "id": "591d6821-d7e6-4aaa-a442-0ad34574c940",
   "metadata": {},
   "source": [
    "# other way to declare array is np.arange  this basically work likes range func"
   ]
  },
  {
   "cell_type": "code",
   "execution_count": 37,
   "id": "8bf1c5c4-6bea-4fed-804f-70acb596e1c7",
   "metadata": {},
   "outputs": [],
   "source": [
    "#arange till 10\n",
    "a= np.arange(1,11)"
   ]
  },
  {
   "cell_type": "code",
   "execution_count": 38,
   "id": "625b6643-2c20-4867-9742-72712180e4ac",
   "metadata": {},
   "outputs": [
    {
     "data": {
      "text/plain": [
       "array([ 1,  2,  3,  4,  5,  6,  7,  8,  9, 10])"
      ]
     },
     "execution_count": 38,
     "metadata": {},
     "output_type": "execute_result"
    }
   ],
   "source": [
    "a"
   ]
  },
  {
   "cell_type": "code",
   "execution_count": 39,
   "id": "2f9d6cdb-9a4a-4627-b1f4-fed801da1eb2",
   "metadata": {},
   "outputs": [],
   "source": [
    "#arange till 10 with steps as 2\n",
    "a=np.arange(1,11,2)"
   ]
  },
  {
   "cell_type": "code",
   "execution_count": 40,
   "id": "205cc1c7-5f82-4b9c-b0fd-f9b86f4f636d",
   "metadata": {},
   "outputs": [
    {
     "data": {
      "text/plain": [
       "array([1, 3, 5, 7, 9])"
      ]
     },
     "execution_count": 40,
     "metadata": {},
     "output_type": "execute_result"
    }
   ],
   "source": [
    "a"
   ]
  },
  {
   "cell_type": "code",
   "execution_count": 41,
   "id": "50ba0bbb-3323-4eaa-a4dc-b58f9786e86b",
   "metadata": {},
   "outputs": [],
   "source": [
    "#arange fucntion with reshape \n",
    "a=np.arange(1,11).reshape(5,2)"
   ]
  },
  {
   "cell_type": "code",
   "execution_count": 42,
   "id": "edab3f37-e20c-4830-8b46-38dbe5586ea9",
   "metadata": {},
   "outputs": [
    {
     "data": {
      "text/plain": [
       "array([[ 1,  2],\n",
       "       [ 3,  4],\n",
       "       [ 5,  6],\n",
       "       [ 7,  8],\n",
       "       [ 9, 10]])"
      ]
     },
     "execution_count": 42,
     "metadata": {},
     "output_type": "execute_result"
    }
   ],
   "source": [
    "a"
   ]
  },
  {
   "cell_type": "code",
   "execution_count": 44,
   "id": "49159128-91ec-4068-97b8-00cb1acdbc81",
   "metadata": {},
   "outputs": [],
   "source": [
    "# or we can reshape into 2,5  basically row * columns should be equal to number of elements\n",
    "a=np.arange(1,13).reshape(2,6)"
   ]
  },
  {
   "cell_type": "code",
   "execution_count": 45,
   "id": "7ab96561-ba58-455d-af93-8dc7e0cf6c53",
   "metadata": {},
   "outputs": [
    {
     "data": {
      "text/plain": [
       "array([[ 1,  2,  3,  4,  5,  6],\n",
       "       [ 7,  8,  9, 10, 11, 12]])"
      ]
     },
     "execution_count": 45,
     "metadata": {},
     "output_type": "execute_result"
    }
   ],
   "source": [
    "a"
   ]
  },
  {
   "cell_type": "code",
   "execution_count": 46,
   "id": "9101b74f-42ec-444d-bf27-55938ce92953",
   "metadata": {},
   "outputs": [
    {
     "data": {
      "text/plain": [
       "array([[ 1,  2],\n",
       "       [ 3,  4],\n",
       "       [ 5,  6],\n",
       "       [ 7,  8],\n",
       "       [ 9, 10],\n",
       "       [11, 12]])"
      ]
     },
     "execution_count": 46,
     "metadata": {},
     "output_type": "execute_result"
    }
   ],
   "source": [
    "a.reshape(6,2)"
   ]
  },
  {
   "cell_type": "code",
   "execution_count": 47,
   "id": "44a52dbf-072b-4a68-9693-36b88e71a6cd",
   "metadata": {},
   "outputs": [
    {
     "data": {
      "text/plain": [
       "array([[ 1,  2,  3],\n",
       "       [ 4,  5,  6],\n",
       "       [ 7,  8,  9],\n",
       "       [10, 11, 12]])"
      ]
     },
     "execution_count": 47,
     "metadata": {},
     "output_type": "execute_result"
    }
   ],
   "source": [
    "a.reshape(4,3)"
   ]
  },
  {
   "cell_type": "code",
   "execution_count": 48,
   "id": "976402d7-99ff-4a79-b895-023d4b88119a",
   "metadata": {},
   "outputs": [
    {
     "data": {
      "text/plain": [
       "array([[ 1,  2,  3,  4],\n",
       "       [ 5,  6,  7,  8],\n",
       "       [ 9, 10, 11, 12]])"
      ]
     },
     "execution_count": 48,
     "metadata": {},
     "output_type": "execute_result"
    }
   ],
   "source": [
    "a.reshape(3,4)"
   ]
  },
  {
   "cell_type": "markdown",
   "id": "92e7a884-1c09-4493-8bba-75a8a6b42b61",
   "metadata": {},
   "source": [
    "### np.ones and np.zeros these two are used to quickly initialize array "
   ]
  },
  {
   "cell_type": "code",
   "execution_count": 52,
   "id": "a30cc075-fa78-484e-860f-872eda8c05c0",
   "metadata": {},
   "outputs": [],
   "source": [
    "a=np.ones((3,5))"
   ]
  },
  {
   "cell_type": "code",
   "execution_count": 53,
   "id": "cdaef8d6-94c6-44ca-a5d8-c998af7e9d59",
   "metadata": {},
   "outputs": [],
   "source": [
    "b=np.ones(((5,4))"
   ]
  },
  {
   "cell_type": "code",
   "execution_count": 56,
   "id": "ef9ae187-3df3-42a9-944b-6e4a727f76c7",
   "metadata": {},
   "outputs": [
    {
     "data": {
      "text/plain": [
       "array([[1., 1., 1., 1., 1.],\n",
       "       [1., 1., 1., 1., 1.],\n",
       "       [1., 1., 1., 1., 1.]])"
      ]
     },
     "execution_count": 56,
     "metadata": {},
     "output_type": "execute_result"
    }
   ],
   "source": [
    "a"
   ]
  },
  {
   "cell_type": "code",
   "execution_count": 57,
   "id": "19065719-1610-4f9f-b704-e4b3901fb71c",
   "metadata": {},
   "outputs": [
    {
     "data": {
      "text/plain": [
       "array([[1., 1., 1., 1.],\n",
       "       [1., 1., 1., 1.],\n",
       "       [1., 1., 1., 1.],\n",
       "       [1., 1., 1., 1.],\n",
       "       [1., 1., 1., 1.]])"
      ]
     },
     "execution_count": 57,
     "metadata": {},
     "output_type": "execute_result"
    }
   ],
   "source": [
    "b"
   ]
  },
  {
   "cell_type": "code",
   "execution_count": 59,
   "id": "66458a10-7ed5-4da4-989d-0d3fac1f6599",
   "metadata": {},
   "outputs": [
    {
     "data": {
      "text/plain": [
       "array([[0., 0., 0., 0.],\n",
       "       [0., 0., 0., 0.],\n",
       "       [0., 0., 0., 0.]])"
      ]
     },
     "execution_count": 59,
     "metadata": {},
     "output_type": "execute_result"
    }
   ],
   "source": [
    "np.zeros((3,4))"
   ]
  },
  {
   "cell_type": "markdown",
   "id": "697f66c3-16bc-4457-a522-a147223890fa",
   "metadata": {},
   "source": [
    "### there is also one fucntion named as np.random this is used to quickly initialize array with random elements betweeen 0-1"
   ]
  },
  {
   "cell_type": "code",
   "execution_count": 63,
   "id": "9dc27bc5-1dab-4901-9353-5d522e277cfb",
   "metadata": {},
   "outputs": [
    {
     "data": {
      "text/plain": [
       "array([[0.60449253, 0.98524507, 0.15179005],\n",
       "       [0.62014169, 0.82293399, 0.94392573],\n",
       "       [0.13752956, 0.54198922, 0.69528937],\n",
       "       [0.20505231, 0.43773553, 0.40976503]])"
      ]
     },
     "execution_count": 63,
     "metadata": {},
     "output_type": "execute_result"
    }
   ],
   "source": [
    "np.random.random((4,3))"
   ]
  },
  {
   "cell_type": "markdown",
   "id": "20d06183-e051-4f66-93de-7fb148b64346",
   "metadata": {},
   "source": [
    "### other way to declare an array is np.linspace"
   ]
  },
  {
   "cell_type": "code",
   "execution_count": 65,
   "id": "3d1057b0-4ba2-4b43-bd26-b83408c96add",
   "metadata": {},
   "outputs": [
    {
     "data": {
      "text/plain": [
       "array([ 1.,  4.,  7., 10.])"
      ]
     },
     "execution_count": 65,
     "metadata": {},
     "output_type": "execute_result"
    }
   ],
   "source": [
    "np.linspace(1,10,4) #(lower range , upper range , numberr of elements)\n"
   ]
  },
  {
   "cell_type": "markdown",
   "id": "0e6f0313-9133-414a-84c6-e02fdcf6bba2",
   "metadata": {},
   "source": [
    "#### basically what it does is it creates elements with distance between two elements same that why its named as linspace"
   ]
  },
  {
   "cell_type": "markdown",
   "id": "329b1a12-60ef-4b4d-884a-52bf9d90a87f",
   "metadata": {},
   "source": [
    "### other we have is np.identity this is used to create identity matrix instantly"
   ]
  },
  {
   "cell_type": "code",
   "execution_count": 67,
   "id": "302733e0-a50d-4a96-9130-4b4e8af5afdb",
   "metadata": {},
   "outputs": [],
   "source": [
    "a=np.identity(4)"
   ]
  },
  {
   "cell_type": "code",
   "execution_count": 68,
   "id": "b5dd318c-9088-450e-acb5-9550ff942239",
   "metadata": {},
   "outputs": [
    {
     "data": {
      "text/plain": [
       "array([[1., 0., 0., 0.],\n",
       "       [0., 1., 0., 0.],\n",
       "       [0., 0., 1., 0.],\n",
       "       [0., 0., 0., 1.]])"
      ]
     },
     "execution_count": 68,
     "metadata": {},
     "output_type": "execute_result"
    }
   ],
   "source": [
    "a"
   ]
  },
  {
   "cell_type": "markdown",
   "id": "4aa87d5b-af78-48d5-aedf-8e963f5cf2d4",
   "metadata": {},
   "source": [
    "# in all intialization we can change dtype to anything we want such as int or something like that\n"
   ]
  },
  {
   "cell_type": "code",
   "execution_count": 73,
   "id": "97c92a23-4ffd-41c5-bbfd-1bf0c4de41dd",
   "metadata": {},
   "outputs": [
    {
     "data": {
      "text/plain": [
       "array([[1, 0, 0],\n",
       "       [0, 1, 0],\n",
       "       [0, 0, 1]])"
      ]
     },
     "execution_count": 73,
     "metadata": {},
     "output_type": "execute_result"
    }
   ],
   "source": [
    "np.identity(3,dtype=int)"
   ]
  },
  {
   "cell_type": "code",
   "execution_count": 75,
   "id": "162a53fc-aed2-424e-ac61-f491b12adb98",
   "metadata": {},
   "outputs": [
    {
     "data": {
      "text/plain": [
       "array([ 10,  28,  46,  64,  82, 100])"
      ]
     },
     "execution_count": 75,
     "metadata": {},
     "output_type": "execute_result"
    }
   ],
   "source": [
    "np.linspace(10,100,6,dtype=int)"
   ]
  },
  {
   "cell_type": "code",
   "execution_count": 79,
   "id": "e672c39a-8ce9-4400-b129-819010fe682d",
   "metadata": {},
   "outputs": [
    {
     "data": {
      "text/plain": [
       "array([[1, 1, 1],\n",
       "       [1, 1, 1]])"
      ]
     },
     "execution_count": 79,
     "metadata": {},
     "output_type": "execute_result"
    }
   ],
   "source": [
    "np.ones((2,3),dtype=int)"
   ]
  },
  {
   "cell_type": "code",
   "execution_count": 83,
   "id": "6600bf1c-e01a-49a2-82ff-aa5ce4cf6e3d",
   "metadata": {},
   "outputs": [
    {
     "data": {
      "text/plain": [
       "array([[ 1.,  2.],\n",
       "       [ 3.,  4.],\n",
       "       [ 5.,  6.],\n",
       "       [ 7.,  8.],\n",
       "       [ 9., 10.],\n",
       "       [11., 12.],\n",
       "       [13., 14.],\n",
       "       [15., 16.],\n",
       "       [17., 18.],\n",
       "       [19., 20.]])"
      ]
     },
     "execution_count": 83,
     "metadata": {},
     "output_type": "execute_result"
    }
   ],
   "source": [
    "np.arange(1,21,dtype=float).reshape(10,2)"
   ]
  },
  {
   "cell_type": "markdown",
   "id": "cdb6c8f9-37ea-4e60-93a4-fb614fd1331a",
   "metadata": {},
   "source": [
    "# some other things"
   ]
  },
  {
   "cell_type": "code",
   "execution_count": 89,
   "id": "4d3ab0fb-702f-431b-b953-4bc1c3d69e8f",
   "metadata": {},
   "outputs": [],
   "source": [
    "a=np.arange(12)"
   ]
  },
  {
   "cell_type": "code",
   "execution_count": 113,
   "id": "06a57bc4-ad12-4a3e-8035-b53463234b47",
   "metadata": {},
   "outputs": [],
   "source": [
    "b=np.arange(12,dtype=float).reshape(2,6)"
   ]
  },
  {
   "cell_type": "code",
   "execution_count": 114,
   "id": "b556d6c2-d7d5-4e8f-b6ec-f754f8ee9c1c",
   "metadata": {},
   "outputs": [],
   "source": [
    "c=np.arange(8).reshape(2,2,2)"
   ]
  },
  {
   "cell_type": "code",
   "execution_count": 115,
   "id": "6e96fe5e-5e70-4eb7-ae01-6d1cf3c536e1",
   "metadata": {},
   "outputs": [
    {
     "name": "stdout",
     "output_type": "stream",
     "text": [
      "[ 0  1  2  3  4  5  6  7  8  9 10 11]\n"
     ]
    }
   ],
   "source": [
    "print(a)"
   ]
  },
  {
   "cell_type": "code",
   "execution_count": 116,
   "id": "b5ed532a-e0c2-4c9b-a5f5-23db3e59d5ef",
   "metadata": {},
   "outputs": [
    {
     "name": "stdout",
     "output_type": "stream",
     "text": [
      "[[ 0.  1.  2.  3.  4.  5.]\n",
      " [ 6.  7.  8.  9. 10. 11.]]\n"
     ]
    }
   ],
   "source": [
    "print(b)"
   ]
  },
  {
   "cell_type": "code",
   "execution_count": 117,
   "id": "86da3a91-201d-43b9-9df1-c0e2cafac204",
   "metadata": {},
   "outputs": [
    {
     "data": {
      "text/plain": [
       "array([[[0, 1],\n",
       "        [2, 3]],\n",
       "\n",
       "       [[4, 5],\n",
       "        [6, 7]]])"
      ]
     },
     "execution_count": 117,
     "metadata": {},
     "output_type": "execute_result"
    }
   ],
   "source": [
    "c"
   ]
  },
  {
   "cell_type": "code",
   "execution_count": 118,
   "id": "8c93a46d-90ff-49fb-b137-08ca5511e0fa",
   "metadata": {},
   "outputs": [
    {
     "name": "stdout",
     "output_type": "stream",
     "text": [
      "1 2 3\n"
     ]
    }
   ],
   "source": [
    "print(a.ndim,b.ndim,c.ndim) #to check dimensions"
   ]
  },
  {
   "cell_type": "markdown",
   "id": "9d4f7fbe-7f06-48ec-bb38-0da8146ade04",
   "metadata": {},
   "source": [
    "#### to check shape of arrays bascially rows and columns it has"
   ]
  },
  {
   "cell_type": "code",
   "execution_count": 119,
   "id": "b5d40571-7c96-43d6-8c0d-6b41408486c2",
   "metadata": {},
   "outputs": [
    {
     "data": {
      "text/plain": [
       "(12,)"
      ]
     },
     "execution_count": 119,
     "metadata": {},
     "output_type": "execute_result"
    }
   ],
   "source": [
    "a.shape"
   ]
  },
  {
   "cell_type": "code",
   "execution_count": 120,
   "id": "6df67ef6-78e5-431a-b304-4d85cf439694",
   "metadata": {},
   "outputs": [
    {
     "data": {
      "text/plain": [
       "(2, 6)"
      ]
     },
     "execution_count": 120,
     "metadata": {},
     "output_type": "execute_result"
    }
   ],
   "source": [
    "b.shape"
   ]
  },
  {
   "cell_type": "code",
   "execution_count": 121,
   "id": "447be0e8-46ab-4c16-9715-eb43cecb291e",
   "metadata": {},
   "outputs": [
    {
     "data": {
      "text/plain": [
       "(2, 2, 2)"
      ]
     },
     "execution_count": 121,
     "metadata": {},
     "output_type": "execute_result"
    }
   ],
   "source": [
    "c.shape"
   ]
  },
  {
   "cell_type": "code",
   "execution_count": 122,
   "id": "5bb39864-9ff5-4eca-8a64-1bf5e6b638b0",
   "metadata": {},
   "outputs": [],
   "source": [
    "d=np.arange(16).reshape(2,2,2,2)"
   ]
  },
  {
   "cell_type": "code",
   "execution_count": 123,
   "id": "566ee729-6acf-4b2a-a6e5-9a0ad4d9e9f4",
   "metadata": {},
   "outputs": [
    {
     "data": {
      "text/plain": [
       "array([[[[ 0,  1],\n",
       "         [ 2,  3]],\n",
       "\n",
       "        [[ 4,  5],\n",
       "         [ 6,  7]]],\n",
       "\n",
       "\n",
       "       [[[ 8,  9],\n",
       "         [10, 11]],\n",
       "\n",
       "        [[12, 13],\n",
       "         [14, 15]]]])"
      ]
     },
     "execution_count": 123,
     "metadata": {},
     "output_type": "execute_result"
    }
   ],
   "source": [
    "d"
   ]
  },
  {
   "cell_type": "code",
   "execution_count": 124,
   "id": "18edea59-5335-46bf-8cc1-15e0b4b9c420",
   "metadata": {},
   "outputs": [
    {
     "data": {
      "text/plain": [
       "(2, 2, 2, 2)"
      ]
     },
     "execution_count": 124,
     "metadata": {},
     "output_type": "execute_result"
    }
   ],
   "source": [
    "d.shape"
   ]
  },
  {
   "cell_type": "markdown",
   "id": "b68efa62-093f-422d-a035-ca7cd3937265",
   "metadata": {},
   "source": [
    "#### .size tells about the number of elements present in an array"
   ]
  },
  {
   "cell_type": "code",
   "execution_count": 125,
   "id": "918369cb-cf83-4d8f-8948-7592ff7e81b5",
   "metadata": {},
   "outputs": [
    {
     "data": {
      "text/plain": [
       "16"
      ]
     },
     "execution_count": 125,
     "metadata": {},
     "output_type": "execute_result"
    }
   ],
   "source": [
    "d.size"
   ]
  },
  {
   "cell_type": "markdown",
   "id": "d5ab4643-a96b-4515-a2b5-6a5275def5ef",
   "metadata": {},
   "source": [
    "#### .itemsize tell about the size of item occupying in memory"
   ]
  },
  {
   "cell_type": "code",
   "execution_count": 126,
   "id": "91797adb-d36f-4a94-9b70-dc593ee25493",
   "metadata": {},
   "outputs": [
    {
     "data": {
      "text/plain": [
       "8"
      ]
     },
     "execution_count": 126,
     "metadata": {},
     "output_type": "execute_result"
    }
   ],
   "source": [
    "a.itemsize"
   ]
  },
  {
   "cell_type": "code",
   "execution_count": 127,
   "id": "6c7a264d-7f26-488d-b21a-bf5b596064c3",
   "metadata": {},
   "outputs": [
    {
     "data": {
      "text/plain": [
       "8"
      ]
     },
     "execution_count": 127,
     "metadata": {},
     "output_type": "execute_result"
    }
   ],
   "source": [
    "b.itemsize"
   ]
  },
  {
   "cell_type": "markdown",
   "id": "8547e23e-6f8e-4d4f-bc79-ed3ce98f6d41",
   "metadata": {},
   "source": [
    "#### dtype tell about the datatype of items"
   ]
  },
  {
   "cell_type": "code",
   "execution_count": 128,
   "id": "9413a43c-04ed-4f57-87fa-521142d890bd",
   "metadata": {},
   "outputs": [],
   "source": [
    "a=np.arange(16)"
   ]
  },
  {
   "cell_type": "code",
   "execution_count": 129,
   "id": "b4b683ba-7b8d-447f-be24-527e2f47a7b2",
   "metadata": {},
   "outputs": [
    {
     "data": {
      "text/plain": [
       "dtype('int64')"
      ]
     },
     "execution_count": 129,
     "metadata": {},
     "output_type": "execute_result"
    }
   ],
   "source": [
    "a.dtype"
   ]
  },
  {
   "cell_type": "code",
   "execution_count": 130,
   "id": "13d6a74b-ac58-42b7-8dda-c71c487e69c1",
   "metadata": {},
   "outputs": [
    {
     "data": {
      "text/plain": [
       "numpy.ndarray"
      ]
     },
     "execution_count": 130,
     "metadata": {},
     "output_type": "execute_result"
    }
   ],
   "source": [
    "type(a)"
   ]
  },
  {
   "cell_type": "markdown",
   "id": "cdd4b2f3-0c5e-4d18-9443-98dd9fe57e60",
   "metadata": {},
   "source": [
    "#### changing the data type of items we "
   ]
  },
  {
   "cell_type": "code",
   "execution_count": 138,
   "id": "e50c9ee8-826f-40c5-9f2e-89c9fc0ad776",
   "metadata": {},
   "outputs": [
    {
     "data": {
      "text/plain": [
       "array([ 0,  1,  2,  3,  4,  5,  6,  7,  8,  9, 10, 11, 12, 13, 14, 15],\n",
       "      dtype=int32)"
      ]
     },
     "execution_count": 138,
     "metadata": {},
     "output_type": "execute_result"
    }
   ],
   "source": [
    "a.astype(np.int32)"
   ]
  },
  {
   "cell_type": "code",
   "execution_count": 139,
   "id": "cb559d2d-aa5e-4aad-9325-e14ac1f90479",
   "metadata": {},
   "outputs": [
    {
     "data": {
      "text/plain": [
       "16"
      ]
     },
     "execution_count": 139,
     "metadata": {},
     "output_type": "execute_result"
    }
   ],
   "source": [
    "a.size"
   ]
  },
  {
   "cell_type": "code",
   "execution_count": 140,
   "id": "f326cf27-cc5a-443e-8ea5-055c2b50670d",
   "metadata": {},
   "outputs": [
    {
     "data": {
      "text/plain": [
       "8"
      ]
     },
     "execution_count": 140,
     "metadata": {},
     "output_type": "execute_result"
    }
   ],
   "source": [
    "a.itemsize"
   ]
  },
  {
   "cell_type": "code",
   "execution_count": null,
   "id": "90fe70aa-5789-43aa-917a-cf1d6e9ae590",
   "metadata": {},
   "outputs": [],
   "source": []
  }
 ],
 "metadata": {
  "kernelspec": {
   "display_name": "Python 3 (ipykernel)",
   "language": "python",
   "name": "python3"
  },
  "language_info": {
   "codemirror_mode": {
    "name": "ipython",
    "version": 3
   },
   "file_extension": ".py",
   "mimetype": "text/x-python",
   "name": "python",
   "nbconvert_exporter": "python",
   "pygments_lexer": "ipython3",
   "version": "3.13.0"
  }
 },
 "nbformat": 4,
 "nbformat_minor": 5
}
