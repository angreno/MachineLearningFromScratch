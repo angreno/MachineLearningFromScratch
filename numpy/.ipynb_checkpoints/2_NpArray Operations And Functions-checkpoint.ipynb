{
 "cells": [
  {
   "cell_type": "code",
   "execution_count": 1,
   "id": "9fcc47ce-d9ac-4fcb-8164-f04bf03ca720",
   "metadata": {},
   "outputs": [],
   "source": [
    "import numpy as np"
   ]
  },
  {
   "cell_type": "code",
   "execution_count": 2,
   "id": "a02abdfc-16ac-439b-8567-888c5afb1c2f",
   "metadata": {},
   "outputs": [],
   "source": [
    "a=np.arange(16).reshape(2,8)\n",
    "b=np.arange(16,32).reshape(2,8)"
   ]
  },
  {
   "cell_type": "code",
   "execution_count": 3,
   "id": "db2f5eca-5e1e-4b2d-b3e6-e87b885b7adc",
   "metadata": {},
   "outputs": [
    {
     "data": {
      "text/plain": [
       "array([[ 0,  1,  2,  3,  4,  5,  6,  7],\n",
       "       [ 8,  9, 10, 11, 12, 13, 14, 15]])"
      ]
     },
     "execution_count": 3,
     "metadata": {},
     "output_type": "execute_result"
    }
   ],
   "source": [
    "a"
   ]
  },
  {
   "cell_type": "code",
   "execution_count": 4,
   "id": "75f1d44b-0503-4d68-9a6c-6e8e4bbfbbe8",
   "metadata": {},
   "outputs": [
    {
     "data": {
      "text/plain": [
       "array([[16, 17, 18, 19, 20, 21, 22, 23],\n",
       "       [24, 25, 26, 27, 28, 29, 30, 31]])"
      ]
     },
     "execution_count": 4,
     "metadata": {},
     "output_type": "execute_result"
    }
   ],
   "source": [
    "b"
   ]
  },
  {
   "cell_type": "markdown",
   "id": "0758708a-5dfb-459f-8a29-37b5df73b00c",
   "metadata": {},
   "source": [
    "# operations on array\n",
    "#### 1.scaler operations-we work on array with single number"
   ]
  },
  {
   "cell_type": "code",
   "execution_count": 5,
   "id": "04153698-0dca-41a0-b53a-3d4f00c0665b",
   "metadata": {},
   "outputs": [
    {
     "data": {
      "text/plain": [
       "array([[ 2,  3,  4,  5,  6,  7,  8,  9],\n",
       "       [10, 11, 12, 13, 14, 15, 16, 17]])"
      ]
     },
     "execution_count": 5,
     "metadata": {},
     "output_type": "execute_result"
    }
   ],
   "source": [
    "# arithmetic\n",
    "a+2"
   ]
  },
  {
   "cell_type": "code",
   "execution_count": 6,
   "id": "e299e635-9f66-416e-91dc-747c161630df",
   "metadata": {},
   "outputs": [
    {
     "data": {
      "text/plain": [
       "array([[ 0,  2,  4,  6,  8, 10, 12, 14],\n",
       "       [16, 18, 20, 22, 24, 26, 28, 30]])"
      ]
     },
     "execution_count": 6,
     "metadata": {},
     "output_type": "execute_result"
    }
   ],
   "source": [
    "a*2"
   ]
  },
  {
   "cell_type": "code",
   "execution_count": 7,
   "id": "1b790e49-674f-496b-95f1-45b25f68d92b",
   "metadata": {},
   "outputs": [
    {
     "data": {
      "text/plain": [
       "array([[False, False,  True,  True,  True,  True,  True,  True],\n",
       "       [ True,  True,  True,  True,  True,  True,  True,  True]])"
      ]
     },
     "execution_count": 7,
     "metadata": {},
     "output_type": "execute_result"
    }
   ],
   "source": [
    "# realtional operations\n",
    "a>1"
   ]
  },
  {
   "cell_type": "code",
   "execution_count": 8,
   "id": "e5cd461f-3049-4c3d-9922-1db5173b5c8a",
   "metadata": {},
   "outputs": [
    {
     "data": {
      "text/plain": [
       "array([[False, False, False, False, False, False, False, False],\n",
       "       [False, False, False, False, False, False, False,  True]])"
      ]
     },
     "execution_count": 8,
     "metadata": {},
     "output_type": "execute_result"
    }
   ],
   "source": [
    "a==15"
   ]
  },
  {
   "cell_type": "code",
   "execution_count": 9,
   "id": "c7672544-58bd-424d-b773-c1afa1518936",
   "metadata": {},
   "outputs": [
    {
     "data": {
      "text/plain": [
       "array([[ 0,  1,  2,  3,  4,  5,  6,  7],\n",
       "       [ 8,  9, 10, 11, 12, 13, 14, 15]])"
      ]
     },
     "execution_count": 9,
     "metadata": {},
     "output_type": "execute_result"
    }
   ],
   "source": [
    "a"
   ]
  },
  {
   "cell_type": "code",
   "execution_count": null,
   "id": "02cc934f-a6aa-4a66-adf5-13f642de3ba4",
   "metadata": {},
   "outputs": [],
   "source": []
  },
  {
   "cell_type": "markdown",
   "id": "1fb4b901-3799-4e68-985b-cf904c5f8ca2",
   "metadata": {},
   "source": [
    "# vector operations basically we will work on two or more np array"
   ]
  },
  {
   "cell_type": "code",
   "execution_count": 10,
   "id": "fd5b6d26-648a-4491-bb04-364b4edb40e5",
   "metadata": {},
   "outputs": [
    {
     "data": {
      "text/plain": [
       "array([[16.10414556, 18.21342919, 20.76286857, 22.8243017 , 24.46460642,\n",
       "        26.95644973, 28.4829572 , 30.96451552],\n",
       "       [32.02139123, 34.51099129, 36.37730106, 38.09855008, 40.77830783,\n",
       "        42.76098128, 44.21104767, 46.96274233]])"
      ]
     },
     "execution_count": 10,
     "metadata": {},
     "output_type": "execute_result"
    }
   ],
   "source": [
    "c=np.random.random((1,16)).reshape(2,8)\n",
    "a+b+c"
   ]
  },
  {
   "cell_type": "markdown",
   "id": "79c2c3e5-4c72-45d5-83e1-e2ee56577601",
   "metadata": {},
   "source": [
    "# Array Functions\n"
   ]
  },
  {
   "cell_type": "code",
   "execution_count": 11,
   "id": "8020f695-a292-4d5d-be00-e250099575a9",
   "metadata": {},
   "outputs": [],
   "source": [
    "a=np.random.random((3,4))"
   ]
  },
  {
   "cell_type": "code",
   "execution_count": 33,
   "id": "4c602485-6d4e-4f88-9c6f-01e5c936ea0c",
   "metadata": {},
   "outputs": [
    {
     "data": {
      "text/plain": [
       "array([[   0,  100,  200,  300],\n",
       "       [ 400,  500,  600,  700],\n",
       "       [ 800,  900, 1000, 1100]])"
      ]
     },
     "execution_count": 33,
     "metadata": {},
     "output_type": "execute_result"
    }
   ],
   "source": [
    "np.round(a*100)"
   ]
  },
  {
   "cell_type": "code",
   "execution_count": 34,
   "id": "fb7edb69-8aae-4a57-89bb-2602d005588c",
   "metadata": {},
   "outputs": [
    {
     "data": {
      "text/plain": [
       "array([[ 0,  1,  2,  3],\n",
       "       [ 4,  5,  6,  7],\n",
       "       [ 8,  9, 10, 11]])"
      ]
     },
     "execution_count": 34,
     "metadata": {},
     "output_type": "execute_result"
    }
   ],
   "source": [
    "a"
   ]
  },
  {
   "cell_type": "markdown",
   "id": "4fa49fbc-00cd-4509-9c51-50b91bee0ced",
   "metadata": {},
   "source": [
    "#### max min prod sum"
   ]
  },
  {
   "cell_type": "code",
   "execution_count": 14,
   "id": "fd88545d-3021-4cda-ab8c-2bc37110ed53",
   "metadata": {},
   "outputs": [
    {
     "data": {
      "text/plain": [
       "np.float64(0.8828612107518787)"
      ]
     },
     "execution_count": 14,
     "metadata": {},
     "output_type": "execute_result"
    }
   ],
   "source": [
    "np.max(a)"
   ]
  },
  {
   "cell_type": "code",
   "execution_count": 15,
   "id": "335eb621-432f-43d6-8257-a3eeb9fb0c36",
   "metadata": {},
   "outputs": [
    {
     "data": {
      "text/plain": [
       "np.float64(0.057801502995740384)"
      ]
     },
     "execution_count": 15,
     "metadata": {},
     "output_type": "execute_result"
    }
   ],
   "source": [
    "np.min(a)"
   ]
  },
  {
   "cell_type": "code",
   "execution_count": 16,
   "id": "8967dd56-115a-4f94-a3d5-41990ca3338b",
   "metadata": {},
   "outputs": [
    {
     "data": {
      "text/plain": [
       "np.float64(2.5707695810753073e-06)"
      ]
     },
     "execution_count": 16,
     "metadata": {},
     "output_type": "execute_result"
    }
   ],
   "source": [
    "np.prod(a)"
   ]
  },
  {
   "cell_type": "code",
   "execution_count": 17,
   "id": "679c4e99-81bf-49db-87e6-13b6b3a5f687",
   "metadata": {},
   "outputs": [
    {
     "data": {
      "text/plain": [
       "np.float64(5.259855657784437)"
      ]
     },
     "execution_count": 17,
     "metadata": {},
     "output_type": "execute_result"
    }
   ],
   "source": [
    "np.sum(a)"
   ]
  },
  {
   "cell_type": "code",
   "execution_count": 18,
   "id": "7111f06e-33f7-4343-99d5-7ea6899e2acd",
   "metadata": {},
   "outputs": [
    {
     "data": {
      "text/plain": [
       "array([0.0578015, 0.3489128, 0.0964425])"
      ]
     },
     "execution_count": 18,
     "metadata": {},
     "output_type": "execute_result"
    }
   ],
   "source": [
    "np.min(a,axis=1) # in axis 1 represents row and 0 represent column"
   ]
  },
  {
   "cell_type": "code",
   "execution_count": 19,
   "id": "b43695e7-16c3-462f-9ce8-420ab12f6075",
   "metadata": {},
   "outputs": [
    {
     "data": {
      "text/plain": [
       "array([0.64483555, 0.3489128 , 0.63829816, 0.88286121])"
      ]
     },
     "execution_count": 19,
     "metadata": {},
     "output_type": "execute_result"
    }
   ],
   "source": [
    "np.max(a,axis=0)"
   ]
  },
  {
   "cell_type": "markdown",
   "id": "ac30f04d-5ef5-43ec-b108-60e1c53a4982",
   "metadata": {},
   "source": [
    "#### mean median var std"
   ]
  },
  {
   "cell_type": "code",
   "execution_count": 20,
   "id": "ff99ec2b-1fa8-4e0e-9a18-4d6e87eb3004",
   "metadata": {},
   "outputs": [
    {
     "data": {
      "text/plain": [
       "np.float64(0.43832130481536974)"
      ]
     },
     "execution_count": 20,
     "metadata": {},
     "output_type": "execute_result"
    }
   ],
   "source": [
    "np.mean(a)"
   ]
  },
  {
   "cell_type": "code",
   "execution_count": 21,
   "id": "87d16c21-72c1-4a8a-b614-31aa69ae08be",
   "metadata": {},
   "outputs": [
    {
     "data": {
      "text/plain": [
       "np.float64(0.4048947398041701)"
      ]
     },
     "execution_count": 21,
     "metadata": {},
     "output_type": "execute_result"
    }
   ],
   "source": [
    "np.median(a)"
   ]
  },
  {
   "cell_type": "code",
   "execution_count": 22,
   "id": "24676656-0f23-4054-b29a-d3273f29fe4f",
   "metadata": {},
   "outputs": [
    {
     "data": {
      "text/plain": [
       "np.float64(0.06327948007670027)"
      ]
     },
     "execution_count": 22,
     "metadata": {},
     "output_type": "execute_result"
    }
   ],
   "source": [
    "np.var(a)"
   ]
  },
  {
   "cell_type": "code",
   "execution_count": 23,
   "id": "5549f9c3-2cfb-44d3-811e-dc5bbc0ea12d",
   "metadata": {},
   "outputs": [
    {
     "data": {
      "text/plain": [
       "np.float64(0.2515541295162937)"
      ]
     },
     "execution_count": 23,
     "metadata": {},
     "output_type": "execute_result"
    }
   ],
   "source": [
    "np.std(a)"
   ]
  },
  {
   "cell_type": "markdown",
   "id": "467584ac-fb81-4d9f-8439-4ed2aa69fdc3",
   "metadata": {},
   "source": [
    "#### trigonometric functions"
   ]
  },
  {
   "cell_type": "code",
   "execution_count": 24,
   "id": "21506b92-c9f6-4180-b45b-c64f13f1c465",
   "metadata": {},
   "outputs": [
    {
     "data": {
      "text/plain": [
       "array([[0.54254398, 0.2386393 , 0.37754425, 0.05776932],\n",
       "       [0.60106702, 0.34187632, 0.59582954, 0.68368059],\n",
       "       [0.41017565, 0.21207055, 0.09629306, 0.77255875]])"
      ]
     },
     "execution_count": 24,
     "metadata": {},
     "output_type": "execute_result"
    }
   ],
   "source": [
    "np.sin(a)"
   ]
  },
  {
   "cell_type": "markdown",
   "id": "29bb0640-31e2-4fb2-8bf3-e022889a7c77",
   "metadata": {},
   "source": [
    "#### log exp round floor ceil"
   ]
  },
  {
   "cell_type": "code",
   "execution_count": 25,
   "id": "0c0cfefb-1b28-4800-aef5-62b12fae0105",
   "metadata": {},
   "outputs": [
    {
     "data": {
      "text/plain": [
       "array([[-0.55606254, -1.42310598, -0.94896158, -2.8507405 ],\n",
       "       [-0.43875996, -1.05293325, -0.44894976, -0.28396337],\n",
       "       [-0.8612188 , -1.54321388, -2.33880835, -0.12458727]])"
      ]
     },
     "execution_count": 25,
     "metadata": {},
     "output_type": "execute_result"
    }
   ],
   "source": [
    "np.log(a)"
   ]
  },
  {
   "cell_type": "code",
   "execution_count": 26,
   "id": "51f438b4-56ac-4073-81ab-d0d4891a16a2",
   "metadata": {},
   "outputs": [
    {
     "data": {
      "text/plain": [
       "array([[1.77440049, 1.27247576, 1.47276684, 1.05950467],\n",
       "       [1.90567361, 1.41752557, 1.89325612, 2.12292364],\n",
       "       [1.52599498, 1.23824272, 1.10124625, 2.41780768]])"
      ]
     },
     "execution_count": 26,
     "metadata": {},
     "output_type": "execute_result"
    }
   ],
   "source": [
    "np.exp(a)"
   ]
  },
  {
   "cell_type": "code",
   "execution_count": 27,
   "id": "c5132b28-c409-4c75-8a6e-bb9c4779835b",
   "metadata": {},
   "outputs": [
    {
     "data": {
      "text/plain": [
       "array([[1., 0., 0., 0.],\n",
       "       [1., 0., 1., 1.],\n",
       "       [0., 0., 0., 1.]])"
      ]
     },
     "execution_count": 27,
     "metadata": {},
     "output_type": "execute_result"
    }
   ],
   "source": [
    "np.round(a) #rounds the value to nearest integer"
   ]
  },
  {
   "cell_type": "code",
   "execution_count": 28,
   "id": "fa41cb09-bd3f-418e-af7b-2d08c1e04a79",
   "metadata": {},
   "outputs": [
    {
     "data": {
      "text/plain": [
       "array([[0., 0., 0., 0.],\n",
       "       [0., 0., 0., 0.],\n",
       "       [0., 0., 0., 0.]])"
      ]
     },
     "execution_count": 28,
     "metadata": {},
     "output_type": "execute_result"
    }
   ],
   "source": [
    "np.floor(a) #gives nearest low integer for ex 5.3 it will give 5 . similarly ceil gives greater value 5.3 ->6"
   ]
  },
  {
   "cell_type": "markdown",
   "id": "c2e5b679-3aa4-4c8a-9a8c-4603248865e1",
   "metadata": {},
   "source": [
    "####  dot product .we know its only possible when first vector column and 2nd vector's row is same . its size will be of row*column"
   ]
  },
  {
   "cell_type": "code",
   "execution_count": 29,
   "id": "4143a6af-9233-4def-8e2f-db0a2ab9bd75",
   "metadata": {},
   "outputs": [],
   "source": [
    "a=np.arange(12).reshape(3,4)\n",
    "b=np.arange(12,24).reshape(4,3)"
   ]
  },
  {
   "cell_type": "code",
   "execution_count": 30,
   "id": "0af66976-e2e7-48a9-bc08-a472e53a4d13",
   "metadata": {},
   "outputs": [
    {
     "data": {
      "text/plain": [
       "array([[114, 120, 126],\n",
       "       [378, 400, 422],\n",
       "       [642, 680, 718]])"
      ]
     },
     "execution_count": 30,
     "metadata": {},
     "output_type": "execute_result"
    }
   ],
   "source": [
    "c=np.dot(a,b)\n",
    "c"
   ]
  },
  {
   "cell_type": "code",
   "execution_count": 31,
   "id": "4e5e4724-4d6d-468c-be2d-85096ad1c83f",
   "metadata": {},
   "outputs": [
    {
     "data": {
      "text/plain": [
       "(3, 3)"
      ]
     },
     "execution_count": 31,
     "metadata": {},
     "output_type": "execute_result"
    }
   ],
   "source": [
    "np.shape(c)"
   ]
  },
  {
   "cell_type": "code",
   "execution_count": 32,
   "id": "bf09103a-65e5-479d-bd8d-2bfc80c4c6df",
   "metadata": {},
   "outputs": [
    {
     "name": "stdout",
     "output_type": "stream",
     "text": [
      "the shape of a is (3, 4) and the shape of b is  (4, 3) hence shape of c is  (3, 3)\n"
     ]
    }
   ],
   "source": [
    "print('the shape of a is',a.shape,'and the shape of b is ',b.shape,'hence shape of c is ',c.shape)"
   ]
  },
  {
   "cell_type": "code",
   "execution_count": 35,
   "id": "fb9afc15-a426-4bd8-b1b2-1d54cdbf3b67",
   "metadata": {},
   "outputs": [
    {
     "data": {
      "text/plain": [
       "np.float64(6.0)"
      ]
     },
     "execution_count": 35,
     "metadata": {},
     "output_type": "execute_result"
    }
   ],
   "source": [
    "a=5.4\n",
    "np.ceil(a)"
   ]
  },
  {
   "cell_type": "code",
   "execution_count": null,
   "id": "7c014397-6be8-4d41-8993-ad1134d902dc",
   "metadata": {},
   "outputs": [],
   "source": []
  }
 ],
 "metadata": {
  "kernelspec": {
   "display_name": "Python 3 (ipykernel)",
   "language": "python",
   "name": "python3"
  },
  "language_info": {
   "codemirror_mode": {
    "name": "ipython",
    "version": 3
   },
   "file_extension": ".py",
   "mimetype": "text/x-python",
   "name": "python",
   "nbconvert_exporter": "python",
   "pygments_lexer": "ipython3",
   "version": "3.13.0"
  }
 },
 "nbformat": 4,
 "nbformat_minor": 5
}
