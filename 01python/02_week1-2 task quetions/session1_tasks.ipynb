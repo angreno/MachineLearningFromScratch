{
 "cells": [
  {
   "cell_type": "markdown",
   "id": "c6a6cfab-e40e-4878-85a0-3955afa354d3",
   "metadata": {},
   "source": [
    "#### print the given strings as per stated format \n",
    "\n",
    "#### \"data\" \"science\" \"is\" \"great\" \"field\"\n",
    "#### \"and \" \"kunal\" \"is\" \"tring\" \"his\" \"best\" \"to\" \"learn\"\n",
    "\n",
    "\n",
    "### output - data-science-is-great-field-and-kunal-is-trying-his-best-to-learn."
   ]
  },
  {
   "cell_type": "code",
   "execution_count": 16,
   "id": "12343bc1-3382-4cc2-9058-0068100c9b9b",
   "metadata": {},
   "outputs": [
    {
     "name": "stdout",
     "output_type": "stream",
     "text": [
      "data science is great field\n",
      "and  kunal is tring his best to learn\n"
     ]
    }
   ],
   "source": [
    "a=print( \"data\", \"science\" ,\"is\", \"great\", \"field\")\n",
    "b=print(\"and \" ,\"kunal\" ,\"is\", \"tring\", \"his\" ,\"best\" ,\"to\" ,\"learn\")"
   ]
  },
  {
   "cell_type": "markdown",
   "id": "b5a3030f-7178-4cba-9185-6d4f29933b03",
   "metadata": {},
   "source": [
    "### lets use sep to change serparator from , to -  \n",
    "### sep is used in print statement when there is more than one argument ."
   ]
  },
  {
   "cell_type": "code",
   "execution_count": 24,
   "id": "32d763fb-d424-4d42-a938-42a49456b405",
   "metadata": {},
   "outputs": [
    {
     "name": "stdout",
     "output_type": "stream",
     "text": [
      "data-science-is-great-field-and-kunal-is-tring-his-best-to-learn\n"
     ]
    }
   ],
   "source": [
    "a=print( \"data\", \"science\" ,\"is\", \"great\", \"field\",sep=\"-\",end='-and-')\n",
    "b=print(\"kunal\" ,\"is\", \"tring\", \"his\" ,\"best\" ,\"to\" ,\"learn\",sep=\"-\")"
   ]
  },
  {
   "cell_type": "code",
   "execution_count": 18,
   "id": "b4caf3cf-eb9e-4e69-8766-12c85c96d924",
   "metadata": {},
   "outputs": [],
   "source": []
  }
 ],
 "metadata": {
  "kernelspec": {
   "display_name": "Python 3 (ipykernel)",
   "language": "python",
   "name": "python3"
  },
  "language_info": {
   "codemirror_mode": {
    "name": "ipython",
    "version": 3
   },
   "file_extension": ".py",
   "mimetype": "text/x-python",
   "name": "python",
   "nbconvert_exporter": "python",
   "pygments_lexer": "ipython3",
   "version": "3.10.0"
  }
 },
 "nbformat": 4,
 "nbformat_minor": 5
}
