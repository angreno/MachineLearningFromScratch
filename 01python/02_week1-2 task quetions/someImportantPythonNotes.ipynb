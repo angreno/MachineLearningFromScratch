{
 "cells": [
  {
   "cell_type": "markdown",
   "id": "f75c0de7-50f7-42ad-bcc8-3018adb8aee0",
   "metadata": {},
   "source": [
    "# print statement is it that simple or it holds some depth "
   ]
  },
  {
   "cell_type": "markdown",
   "id": "abeab90d-ee21-4857-a1a5-dbe8bacae3e6",
   "metadata": {},
   "source": [
    "#### print statement is not that simple as it look like \n",
    "#### if we explore more about print statement we can notice that print statement contains several parameters "
   ]
  },
  {
   "cell_type": "code",
   "execution_count": null,
   "id": "366acc09-ee90-48be-ab56-6be3a139c0ed",
   "metadata": {},
   "outputs": [],
   "source": [
    "print(*objects,sep='',end='\\n',flush=True,file=sys.stdout)\n",
    "\n"
   ]
  },
  {
   "cell_type": "markdown",
   "id": "b41c77f9-b41e-4eb7-943e-83996acd1090",
   "metadata": {},
   "source": [
    "# sep - it controls the string inserted between multiple objects\n",
    "#### default = \" \"\n",
    "#### print(\"Python\", \"is\", \"fun\", sep=\"-\")\n",
    "#### Output: Python-is-fun\n"
   ]
  },
  {
   "cell_type": "markdown",
   "id": "42f7f180-4a10-43a2-ba58-74e71c8944de",
   "metadata": {},
   "source": [
    "# end - controls end of output \n",
    "#### default = new line i.e \\n"
   ]
  },
  {
   "cell_type": "code",
   "execution_count": null,
   "id": "4d7dffc6-70a9-4c2b-8de9-c47c87151023",
   "metadata": {},
   "outputs": [],
   "source": []
  }
 ],
 "metadata": {
  "kernelspec": {
   "display_name": "Python 3 (ipykernel)",
   "language": "python",
   "name": "python3"
  },
  "language_info": {
   "codemirror_mode": {
    "name": "ipython",
    "version": 3
   },
   "file_extension": ".py",
   "mimetype": "text/x-python",
   "name": "python",
   "nbconvert_exporter": "python",
   "pygments_lexer": "ipython3",
   "version": "3.10.0"
  }
 },
 "nbformat": 4,
 "nbformat_minor": 5
}
