{
 "cells": [
  {
   "cell_type": "markdown",
   "id": "ce0fa60b-96f4-4585-bcb4-6cd4cb3d8ad0",
   "metadata": {},
   "source": [
    "## what is pandas\n",
    "#### pandas is a library used for data analysis and data manipulation . similarly like python pandas too has data type two most famous of them are pandas series and pandas dataframe"
   ]
  },
  {
   "cell_type": "markdown",
   "id": "13b37f0c-cc6f-45fb-8cb7-74733da11e9f",
   "metadata": {},
   "source": [
    "## pandas series \n",
    "#### Pandas series is like a column in a table . 1d holding data of any type "
   ]
  },
  {
   "cell_type": "code",
   "execution_count": 8,
   "id": "87521fd2-475d-4f92-84d3-b36dd76eb74f",
   "metadata": {},
   "outputs": [],
   "source": [
    "#lets import pandas\n",
    "import numpy as np\n",
    "import pandas as pd"
   ]
  },
  {
   "cell_type": "markdown",
   "id": "b2115a1b-1160-49c7-9b8e-6e4eff11efc1",
   "metadata": {},
   "source": [
    "#### how make pandas series? \n",
    "\n",
    "####\n",
    "#### lets make pandas series from string "
   ]
  },
  {
   "cell_type": "code",
   "execution_count": 12,
   "id": "5b660ec4-ed2e-45ec-be84-031ffd75b137",
   "metadata": {},
   "outputs": [
    {
     "data": {
      "text/plain": [
       "0    india\n",
       "1      pak\n",
       "2      usa\n",
       "3    nepal\n",
       "dtype: object"
      ]
     },
     "execution_count": 12,
     "metadata": {},
     "output_type": "execute_result"
    }
   ],
   "source": [
    "#string \n",
    "\n",
    "country = ['india', 'pak','usa','nepal']\n",
    "pd.Series(country)"
   ]
  },
  {
   "cell_type": "code",
   "execution_count": 14,
   "id": "aba290b3-b723-4cd2-a5a3-e34731f4ac6f",
   "metadata": {},
   "outputs": [
    {
     "data": {
      "text/plain": [
       "0    1\n",
       "1    2\n",
       "2    3\n",
       "3    4\n",
       "4    5\n",
       "dtype: int64"
      ]
     },
     "execution_count": 14,
     "metadata": {},
     "output_type": "execute_result"
    }
   ],
   "source": [
    "#integers\n",
    "\n",
    "a = [1,2,3,4,5]\n",
    "pd.Series(a)"
   ]
  },
  {
   "cell_type": "markdown",
   "id": "2a8865e3-6c6a-44df-a9a3-8e03a9da0b16",
   "metadata": {},
   "source": [
    "#### in above our index in 0 1 like this but we can make custom index too through pandas lets do that too \n",
    "\n"
   ]
  },
  {
   "cell_type": "code",
   "execution_count": 15,
   "id": "bbf83fce-1293-4a0a-8e70-e8c5f3220237",
   "metadata": {},
   "outputs": [],
   "source": [
    "sub = ['maths', 'science' , 'english ', 'social sutdies']\n",
    "marks = [2,8,10,5]"
   ]
  },
  {
   "cell_type": "code",
   "execution_count": 22,
   "id": "d4663dcf-c5dd-48e9-bcf0-f9a33024f861",
   "metadata": {},
   "outputs": [
    {
     "name": "stdout",
     "output_type": "stream",
     "text": [
      "maths              2\n",
      "science            8\n",
      "english           10\n",
      "social sutdies     5\n",
      "dtype: int64\n"
     ]
    },
    {
     "data": {
      "text/plain": [
       "maths              2\n",
       "science            8\n",
       "english           10\n",
       "social sutdies     5\n",
       "dtype: int64"
      ]
     },
     "execution_count": 22,
     "metadata": {},
     "output_type": "execute_result"
    }
   ],
   "source": [
    "print(pd.Series(marks, index = sub))\n",
    "pd.Series(marks, sub )\n"
   ]
  },
  {
   "cell_type": "markdown",
   "id": "0b89c6b3-6780-4a74-8df3-ebfd67d7b954",
   "metadata": {},
   "source": [
    "####  we can also give name to our series object which is another parameter in pd.Series"
   ]
  },
  {
   "cell_type": "code",
   "execution_count": 26,
   "id": "a2b48df4-7d52-45a8-aeb9-e6bd79acda57",
   "metadata": {},
   "outputs": [],
   "source": [
    "marks = pd.Series(marks , index = sub , name =\"jai mata di \")"
   ]
  },
  {
   "cell_type": "code",
   "execution_count": 27,
   "id": "fbc23749-c27e-4fc6-9900-4305f2c0dbc1",
   "metadata": {},
   "outputs": [
    {
     "name": "stdout",
     "output_type": "stream",
     "text": [
      "maths              2\n",
      "science            8\n",
      "english           10\n",
      "social sutdies     5\n",
      "Name: jai mata di , dtype: int64\n"
     ]
    }
   ],
   "source": [
    "print(marks) "
   ]
  },
  {
   "cell_type": "markdown",
   "id": "ddc13aee-0f85-4029-acb4-c1b356916969",
   "metadata": {},
   "source": [
    "## series from dict"
   ]
  },
  {
   "cell_type": "code",
   "execution_count": 30,
   "id": "14db88ca-c2ce-4034-a8ec-04ed7b55ac46",
   "metadata": {},
   "outputs": [],
   "source": [
    "marks ={'maths ':67 , 'english ': 57 , 'science ' : 25 , 'hindi ': 100}\n",
    "marks_series = pd.Series(marks , name = \"jai mata di \" )"
   ]
  },
  {
   "cell_type": "code",
   "execution_count": 31,
   "id": "a58140a4-6d77-4aa1-977f-89973cdf8f5f",
   "metadata": {},
   "outputs": [
    {
     "data": {
      "text/plain": [
       "maths        67\n",
       "english      57\n",
       "science      25\n",
       "hindi       100\n",
       "Name: jai mata di , dtype: int64"
      ]
     },
     "execution_count": 31,
     "metadata": {},
     "output_type": "execute_result"
    }
   ],
   "source": [
    "marks_series"
   ]
  },
  {
   "cell_type": "markdown",
   "id": "27fc1aeb-6526-4a8b-a359-30a950b8642f",
   "metadata": {},
   "source": [
    "# Series Attributes "
   ]
  },
  {
   "cell_type": "markdown",
   "id": "a6e876bb-06dd-4147-92a0-8f90994eeb03",
   "metadata": {},
   "source": [
    "#### size tell out the size of series "
   ]
  },
  {
   "cell_type": "code",
   "execution_count": 36,
   "id": "987b28e0-1355-4261-9cae-5787da231679",
   "metadata": {},
   "outputs": [
    {
     "data": {
      "text/plain": [
       "4"
      ]
     },
     "execution_count": 36,
     "metadata": {},
     "output_type": "execute_result"
    }
   ],
   "source": [
    "marks_series.size"
   ]
  },
  {
   "cell_type": "markdown",
   "id": "17e14954-f89b-451b-826e-bb5d4c7995d3",
   "metadata": {},
   "source": [
    "#### dtype tell about the data type of series"
   ]
  },
  {
   "cell_type": "code",
   "execution_count": 38,
   "id": "8a5f3f91-707b-4dcf-a381-fd89ec2ca911",
   "metadata": {},
   "outputs": [
    {
     "data": {
      "text/plain": [
       "dtype('int64')"
      ]
     },
     "execution_count": 38,
     "metadata": {},
     "output_type": "execute_result"
    }
   ],
   "source": [
    "marks_series.dtype"
   ]
  },
  {
   "cell_type": "markdown",
   "id": "68e7e843-d1a0-4b24-ba90-6e0819270e90",
   "metadata": {},
   "source": [
    "#### name of series object"
   ]
  },
  {
   "cell_type": "code",
   "execution_count": 41,
   "id": "df2ab015-e735-4d31-9b2d-2fbddbb468a4",
   "metadata": {},
   "outputs": [
    {
     "data": {
      "text/plain": [
       "'jai mata di '"
      ]
     },
     "execution_count": 41,
     "metadata": {},
     "output_type": "execute_result"
    }
   ],
   "source": [
    "marks_series.name"
   ]
  },
  {
   "cell_type": "markdown",
   "id": "abca1377-b078-404f-8ab6-27161f0a2c2a",
   "metadata": {},
   "source": [
    "#### is_unique tell whether our series has unique element if elements are repeating it will return false"
   ]
  },
  {
   "cell_type": "code",
   "execution_count": 44,
   "id": "a7ee9cb4-0fc0-421e-bd9b-75b6b674e1c0",
   "metadata": {},
   "outputs": [
    {
     "data": {
      "text/plain": [
       "True"
      ]
     },
     "execution_count": 44,
     "metadata": {},
     "output_type": "execute_result"
    }
   ],
   "source": [
    "marks_series.is_unique # will return true since there is no returning element"
   ]
  },
  {
   "cell_type": "code",
   "execution_count": 49,
   "id": "6a81354a-8d19-477e-b400-f5757f69e1d2",
   "metadata": {},
   "outputs": [
    {
     "data": {
      "text/plain": [
       "False"
      ]
     },
     "execution_count": 49,
     "metadata": {},
     "output_type": "execute_result"
    }
   ],
   "source": [
    "m = [1,1,2,3,4,5]\n",
    "ms=pd.Series(m)\n",
    "ms.is_unique"
   ]
  },
  {
   "cell_type": "markdown",
   "id": "12c4f875-480b-43f1-bf78-93df4ffc5728",
   "metadata": {},
   "source": [
    "#### .index attribute gives us the index "
   ]
  },
  {
   "cell_type": "code",
   "execution_count": 50,
   "id": "25015f76-f33b-491e-8f9b-ccdc216e260e",
   "metadata": {},
   "outputs": [
    {
     "data": {
      "text/plain": [
       "Index(['maths ', 'english ', 'science ', 'hindi '], dtype='object')"
      ]
     },
     "execution_count": 50,
     "metadata": {},
     "output_type": "execute_result"
    }
   ],
   "source": [
    "marks_series.index"
   ]
  },
  {
   "cell_type": "code",
   "execution_count": 51,
   "id": "121af88c-68b3-42b9-aabc-32a5b36410e5",
   "metadata": {},
   "outputs": [
    {
     "data": {
      "text/plain": [
       "RangeIndex(start=0, stop=6, step=1)"
      ]
     },
     "execution_count": 51,
     "metadata": {},
     "output_type": "execute_result"
    }
   ],
   "source": [
    "ms.index"
   ]
  },
  {
   "cell_type": "markdown",
   "id": "3a9a4244-ff6e-4d44-a9ed-b1d9b52f22f5",
   "metadata": {},
   "source": [
    "#### to get values we can write .values"
   ]
  },
  {
   "cell_type": "code",
   "execution_count": 53,
   "id": "66a658dd-c29b-4762-a830-64e4df300a60",
   "metadata": {},
   "outputs": [
    {
     "data": {
      "text/plain": [
       "array([1, 1, 2, 3, 4, 5], dtype=int64)"
      ]
     },
     "execution_count": 53,
     "metadata": {},
     "output_type": "execute_result"
    }
   ],
   "source": [
    "ms.values"
   ]
  },
  {
   "cell_type": "code",
   "execution_count": 54,
   "id": "11cba48d-e6c1-4dc4-85cc-e3f83bbc4a76",
   "metadata": {},
   "outputs": [
    {
     "data": {
      "text/plain": [
       "array([ 67,  57,  25, 100], dtype=int64)"
      ]
     },
     "execution_count": 54,
     "metadata": {},
     "output_type": "execute_result"
    }
   ],
   "source": [
    "marks_series.values"
   ]
  },
  {
   "cell_type": "markdown",
   "id": "ac3564be-6d36-4885-b1d3-f77f8d5405f2",
   "metadata": {},
   "source": [
    "# SERIES USING READ_CSV\n",
    "#### pd.read_csv what does is , it reads csv and return us csv in the form of dataframe "
   ]
  },
  {
   "cell_type": "code",
   "execution_count": 58,
   "id": "4ddff66b-300b-4cd9-9c2b-25b4da3c3548",
   "metadata": {},
   "outputs": [],
   "source": [
    "\n",
    "a=pd.read_csv(r\"E:\\study\\Codes\\latest codes\\MachineLearningFromScratch1\\MachineLearningFromScratch\\04Pandas\\bollywood (2).csv\")"
   ]
  },
  {
   "cell_type": "code",
   "execution_count": 61,
   "id": "50ef1483-a8da-4755-abab-27f9c37da34e",
   "metadata": {},
   "outputs": [
    {
     "data": {
      "text/plain": [
       "pandas.core.frame.DataFrame"
      ]
     },
     "execution_count": 61,
     "metadata": {},
     "output_type": "execute_result"
    }
   ],
   "source": [
    "type(a)"
   ]
  },
  {
   "cell_type": "code",
   "execution_count": 62,
   "id": "4c15aa11-2d45-4206-a40f-8f506af2adbe",
   "metadata": {},
   "outputs": [],
   "source": [
    "# we can see that type of a is "
   ]
  },
  {
   "cell_type": "code",
   "execution_count": null,
   "id": "12145aa5-4250-48ee-878b-4c712eece4a1",
   "metadata": {},
   "outputs": [],
   "source": []
  }
 ],
 "metadata": {
  "kernelspec": {
   "display_name": "Python 3 (ipykernel)",
   "language": "python",
   "name": "python3"
  },
  "language_info": {
   "codemirror_mode": {
    "name": "ipython",
    "version": 3
   },
   "file_extension": ".py",
   "mimetype": "text/x-python",
   "name": "python",
   "nbconvert_exporter": "python",
   "pygments_lexer": "ipython3",
   "version": "3.11.9"
  }
 },
 "nbformat": 4,
 "nbformat_minor": 5
}
