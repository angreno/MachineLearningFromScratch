{
 "cells": [
  {
   "cell_type": "markdown",
   "id": "ce0fa60b-96f4-4585-bcb4-6cd4cb3d8ad0",
   "metadata": {},
   "source": [
    "## what is pandas\n",
    "#### pandas is a library used for data analysis and data manipulation . similarly like python pandas too has data type two most famous of them are pandas series and pandas dataframe"
   ]
  },
  {
   "cell_type": "markdown",
   "id": "13b37f0c-cc6f-45fb-8cb7-74733da11e9f",
   "metadata": {},
   "source": [
    "## pandas series \n",
    "#### Pandas series is like a column in a table . 1d holding data of any type "
   ]
  },
  {
   "cell_type": "code",
   "execution_count": 8,
   "id": "87521fd2-475d-4f92-84d3-b36dd76eb74f",
   "metadata": {},
   "outputs": [],
   "source": [
    "#lets import pandas\n",
    "import numpy as np\n",
    "import pandas as pd"
   ]
  },
  {
   "cell_type": "markdown",
   "id": "b2115a1b-1160-49c7-9b8e-6e4eff11efc1",
   "metadata": {},
   "source": [
    "#### how make pandas series? \n",
    "\n",
    "####\n",
    "#### lets make pandas series from string "
   ]
  },
  {
   "cell_type": "code",
   "execution_count": 12,
   "id": "5b660ec4-ed2e-45ec-be84-031ffd75b137",
   "metadata": {},
   "outputs": [
    {
     "data": {
      "text/plain": [
       "0    india\n",
       "1      pak\n",
       "2      usa\n",
       "3    nepal\n",
       "dtype: object"
      ]
     },
     "execution_count": 12,
     "metadata": {},
     "output_type": "execute_result"
    }
   ],
   "source": [
    "#string \n",
    "\n",
    "country = ['india', 'pak','usa','nepal']\n",
    "pd.Series(country)"
   ]
  },
  {
   "cell_type": "code",
   "execution_count": 14,
   "id": "aba290b3-b723-4cd2-a5a3-e34731f4ac6f",
   "metadata": {},
   "outputs": [
    {
     "data": {
      "text/plain": [
       "0    1\n",
       "1    2\n",
       "2    3\n",
       "3    4\n",
       "4    5\n",
       "dtype: int64"
      ]
     },
     "execution_count": 14,
     "metadata": {},
     "output_type": "execute_result"
    }
   ],
   "source": [
    "#integers\n",
    "\n",
    "a = [1,2,3,4,5]\n",
    "pd.Series(a)"
   ]
  },
  {
   "cell_type": "code",
   "execution_count": null,
   "id": "2f29cafe-0356-4794-8e78-ceea1feae9ea",
   "metadata": {},
   "outputs": [],
   "source": []
  }
 ],
 "metadata": {
  "kernelspec": {
   "display_name": "Python 3 (ipykernel)",
   "language": "python",
   "name": "python3"
  },
  "language_info": {
   "codemirror_mode": {
    "name": "ipython",
    "version": 3
   },
   "file_extension": ".py",
   "mimetype": "text/x-python",
   "name": "python",
   "nbconvert_exporter": "python",
   "pygments_lexer": "ipython3",
   "version": "3.11.9"
  }
 },
 "nbformat": 4,
 "nbformat_minor": 5
}
