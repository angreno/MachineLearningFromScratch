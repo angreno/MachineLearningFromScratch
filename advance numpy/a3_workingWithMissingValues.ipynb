{
 "cells": [
  {
   "cell_type": "code",
   "execution_count": 1,
   "id": "08cfbc00-8a47-4f39-8ec2-8c376a3f9ab5",
   "metadata": {},
   "outputs": [],
   "source": [
    "import numpy as np"
   ]
  },
  {
   "cell_type": "markdown",
   "id": "d528efea-ec6d-4652-8655-ba186e7a5b6f",
   "metadata": {
    "jp-MarkdownHeadingCollapsed": true
   },
   "source": [
    "### this is just example how to deal with missing values more about this we will learn in pandas"
   ]
  },
  {
   "cell_type": "markdown",
   "id": "b42a9425-b158-4d41-b250-a5c518bcaca3",
   "metadata": {},
   "source": [
    "### so lets initialize an array with contains nan value basically empty value nan and null is different "
   ]
  },
  {
   "cell_type": "code",
   "execution_count": 4,
   "id": "e7906f3b-1cc7-4038-8fbb-7c82086611fb",
   "metadata": {},
   "outputs": [],
   "source": [
    "a=np.array([1,2,3,np.nan,4])"
   ]
  },
  {
   "cell_type": "markdown",
   "id": "ab4ef3fd-a922-475c-a169-c894eb5cece0",
   "metadata": {},
   "source": [
    "#### so we have a built in function that tell us about nan which is np.isnan()"
   ]
  },
  {
   "cell_type": "code",
   "execution_count": 5,
   "id": "2b7dae21-6dfa-4dc9-b3a0-b3e4396b183c",
   "metadata": {},
   "outputs": [
    {
     "data": {
      "text/plain": [
       "array([ 1.,  2.,  3., nan,  4.])"
      ]
     },
     "execution_count": 5,
     "metadata": {},
     "output_type": "execute_result"
    }
   ],
   "source": [
    "a"
   ]
  },
  {
   "cell_type": "code",
   "execution_count": 6,
   "id": "ce375c38-2536-4ecb-94aa-425ac4343ad8",
   "metadata": {},
   "outputs": [
    {
     "data": {
      "text/plain": [
       "array([False, False, False,  True, False])"
      ]
     },
     "execution_count": 6,
     "metadata": {},
     "output_type": "execute_result"
    }
   ],
   "source": [
    "np.isnan(a)"
   ]
  },
  {
   "cell_type": "markdown",
   "id": "f0fd83e3-08ad-4e4c-a89d-535ebe738a0d",
   "metadata": {},
   "source": [
    "#### se this gives us a array in the form of bool . if its nan its returning true. but what we need is values which are not nan so we will use not  bitwise operator"
   ]
  },
  {
   "cell_type": "code",
   "execution_count": 17,
   "id": "471e830b-c614-483e-8e72-ace1fef17cf9",
   "metadata": {},
   "outputs": [],
   "source": [
    "a=a[~np.isnan(a)]"
   ]
  },
  {
   "cell_type": "code",
   "execution_count": 18,
   "id": "5a941537-e929-4dc5-a5bd-a427178f05cf",
   "metadata": {},
   "outputs": [
    {
     "data": {
      "text/plain": [
       "array([ True,  True,  True, False,  True])"
      ]
     },
     "execution_count": 18,
     "metadata": {},
     "output_type": "execute_result"
    }
   ],
   "source": [
    "a"
   ]
  },
  {
   "cell_type": "code",
   "execution_count": null,
   "id": "da30338d-2995-4c00-a712-de2feed0364d",
   "metadata": {},
   "outputs": [],
   "source": []
  }
 ],
 "metadata": {
  "kernelspec": {
   "display_name": "Python 3 (ipykernel)",
   "language": "python",
   "name": "python3"
  },
  "language_info": {
   "codemirror_mode": {
    "name": "ipython",
    "version": 3
   },
   "file_extension": ".py",
   "mimetype": "text/x-python",
   "name": "python",
   "nbconvert_exporter": "python",
   "pygments_lexer": "ipython3",
   "version": "3.10.0"
  }
 },
 "nbformat": 4,
 "nbformat_minor": 5
}
