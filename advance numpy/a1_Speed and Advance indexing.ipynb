{
 "cells": [
  {
   "cell_type": "markdown",
   "id": "b5c9323e-e1e4-4782-a176-efdd4b3b7ebb",
   "metadata": {},
   "source": [
    "### comparing python list and numpy"
   ]
  },
  {
   "cell_type": "markdown",
   "id": "2d1c7fd1-2037-4182-bf45-4d2e30892e24",
   "metadata": {},
   "source": [
    "#### first we'll compare speed of both list and numpy\n",
    "#### idea is we'll add two array in both list and numpy and we'll calculate time taken for rough idea"
   ]
  },
  {
   "cell_type": "code",
   "execution_count": 1,
   "id": "122c64bd-f7c5-416b-a8d0-d486b51f98ed",
   "metadata": {},
   "outputs": [],
   "source": [
    "import numpy as np\n",
    "import time #to measure time"
   ]
  },
  {
   "cell_type": "code",
   "execution_count": 2,
   "id": "b8403740-1306-405f-9b4f-6ece9b5905bb",
   "metadata": {},
   "outputs": [],
   "source": [
    "a= [i for i in range (10000000)]\n",
    "b= [i for i in range (10000000)]"
   ]
  },
  {
   "cell_type": "code",
   "execution_count": 3,
   "id": "4c745180-eb43-474a-81d8-1e01f2099fcc",
   "metadata": {},
   "outputs": [
    {
     "data": {
      "text/plain": [
       "1.0131852626800537"
      ]
     },
     "execution_count": 3,
     "metadata": {},
     "output_type": "execute_result"
    }
   ],
   "source": [
    "# adding both a and b\n",
    "start = time.time()\n",
    "for i in range(len(a)):\n",
    "    c=a[i]+b[i]\n",
    "time.time()-start\n",
    "    "
   ]
  },
  {
   "cell_type": "code",
   "execution_count": 4,
   "id": "89f567fa-24cd-4f64-aada-d52a43ee5861",
   "metadata": {},
   "outputs": [
    {
     "data": {
      "text/plain": [
       "0.016970157623291016"
      ]
     },
     "execution_count": 4,
     "metadata": {},
     "output_type": "execute_result"
    }
   ],
   "source": [
    "#now lets try on numpy\n",
    "a1=np.arange(10000000)\n",
    "b1=np.arange(10000000,20000000)\n",
    "start =time.time()\n",
    "c=a1+b1\n",
    "time.time()-start"
   ]
  },
  {
   "cell_type": "code",
   "execution_count": 5,
   "id": "4271600b-065e-4716-b1e6-d3316a899af8",
   "metadata": {},
   "outputs": [
    {
     "data": {
      "text/plain": [
       "42.5"
      ]
     },
     "execution_count": 5,
     "metadata": {},
     "output_type": "execute_result"
    }
   ],
   "source": [
    "0.85/0.02"
   ]
  },
  {
   "cell_type": "markdown",
   "id": "01c852a6-09c6-497b-b322-b538f9f0dfd0",
   "metadata": {},
   "source": [
    "### we can clearly see that numpy is 40 times faster than python list due to->\n",
    "### python list is dynamic and python stores its elements location ,  in reference memory\n"
   ]
  },
  {
   "cell_type": "markdown",
   "id": "942a5f73-b33f-4737-b5cd-ce536d50ffb7",
   "metadata": {},
   "source": [
    "# now lets check memory"
   ]
  },
  {
   "cell_type": "code",
   "execution_count": 6,
   "id": "a13ff539-73dd-479e-96e2-d46df9e9e0b0",
   "metadata": {},
   "outputs": [
    {
     "data": {
      "text/plain": [
       "835128600"
      ]
     },
     "execution_count": 6,
     "metadata": {},
     "output_type": "execute_result"
    }
   ],
   "source": [
    "import sys #to get memory size \n",
    "a= [i for i in range (100000000)]\n",
    "sys.getsizeof(a)"
   ]
  },
  {
   "cell_type": "code",
   "execution_count": 7,
   "id": "78f0ca13-aa26-4b62-8fa1-00895f31e261",
   "metadata": {},
   "outputs": [
    {
     "data": {
      "text/plain": [
       "800000112"
      ]
     },
     "execution_count": 7,
     "metadata": {},
     "output_type": "execute_result"
    }
   ],
   "source": [
    "b=np.arange(100000000)\n",
    "sys.getsizeof(b)"
   ]
  },
  {
   "cell_type": "markdown",
   "id": "8812b6f0-1220-4c96-93de-59f10dec5680",
   "metadata": {},
   "source": [
    "#### fancy indexing and boolean indexing"
   ]
  },
  {
   "cell_type": "code",
   "execution_count": 8,
   "id": "e09135a0-a36d-4fc6-befe-7a45300f472a",
   "metadata": {},
   "outputs": [],
   "source": [
    "a= np.arange(12).reshape(4,3)"
   ]
  },
  {
   "cell_type": "code",
   "execution_count": 9,
   "id": "705916af-85f8-4d6c-ac7f-5ee37ca1e69e",
   "metadata": {},
   "outputs": [
    {
     "data": {
      "text/plain": [
       "array([[ 0,  1,  2],\n",
       "       [ 3,  4,  5],\n",
       "       [ 6,  7,  8],\n",
       "       [ 9, 10, 11]])"
      ]
     },
     "execution_count": 9,
     "metadata": {},
     "output_type": "execute_result"
    }
   ],
   "source": [
    "a"
   ]
  },
  {
   "cell_type": "code",
   "execution_count": 10,
   "id": "037ea7b5-3e11-450b-b3b6-028bf5ea044f",
   "metadata": {},
   "outputs": [
    {
     "data": {
      "text/plain": [
       "array([[ 3,  4,  5],\n",
       "       [ 9, 10, 11]])"
      ]
     },
     "execution_count": 10,
     "metadata": {},
     "output_type": "execute_result"
    }
   ],
   "source": [
    "#suppose from a matrix we want to get 0 th column , 2nd and 3rd from normal slicing we cannot do this so for this purpose \n",
    "#from normal slicing we can get \n",
    "a[1::2]"
   ]
  },
  {
   "cell_type": "code",
   "execution_count": 11,
   "id": "109df59c-e20d-440a-8cb5-1a2536f26d63",
   "metadata": {},
   "outputs": [],
   "source": [
    "# as we can see that by anyhow we can't get 0th column by anyhow so for this issue we need something called as fancy indexing"
   ]
  },
  {
   "cell_type": "code",
   "execution_count": 12,
   "id": "c94ce504-0039-485a-a98d-f3b01bc6b3fc",
   "metadata": {},
   "outputs": [
    {
     "data": {
      "text/plain": [
       "array([[ 0,  1,  2],\n",
       "       [ 6,  7,  8],\n",
       "       [ 9, 10, 11]])"
      ]
     },
     "execution_count": 12,
     "metadata": {},
     "output_type": "execute_result"
    }
   ],
   "source": [
    "#in facing indexing what we do is we pass index as list\n",
    "a[[0,2,3]]"
   ]
  },
  {
   "cell_type": "code",
   "execution_count": 13,
   "id": "18c46ca4-1c3f-495d-a56d-8cc1705893c5",
   "metadata": {},
   "outputs": [],
   "source": [
    "#to make things interesting \n",
    "b = np.arange(24).reshape(6,4)"
   ]
  },
  {
   "cell_type": "code",
   "execution_count": 14,
   "id": "137e6d48-0a45-4dc1-b201-8a7bbaf23d91",
   "metadata": {},
   "outputs": [
    {
     "data": {
      "text/plain": [
       "array([[ 0,  1,  2,  3],\n",
       "       [ 4,  5,  6,  7],\n",
       "       [ 8,  9, 10, 11],\n",
       "       [12, 13, 14, 15],\n",
       "       [16, 17, 18, 19],\n",
       "       [20, 21, 22, 23]])"
      ]
     },
     "execution_count": 14,
     "metadata": {},
     "output_type": "execute_result"
    }
   ],
   "source": [
    "b"
   ]
  },
  {
   "cell_type": "code",
   "execution_count": 15,
   "id": "e4aaa6d7-94df-4317-8393-1ffe15498311",
   "metadata": {},
   "outputs": [
    {
     "data": {
      "text/plain": [
       "array([[ 0,  1,  2,  3],\n",
       "       [ 8,  9, 10, 11],\n",
       "       [12, 13, 14, 15],\n",
       "       [20, 21, 22, 23]])"
      ]
     },
     "execution_count": 15,
     "metadata": {},
     "output_type": "execute_result"
    }
   ],
   "source": [
    "#lets say we want following rows 0,2,3 and 5\n",
    "b[[0,2,3,5]]"
   ]
  },
  {
   "cell_type": "code",
   "execution_count": 16,
   "id": "10ef42c2-87cd-482d-8995-1d4a8c885fce",
   "metadata": {},
   "outputs": [
    {
     "data": {
      "text/plain": [
       "array([[ 0,  1,  3],\n",
       "       [ 4,  5,  7],\n",
       "       [ 8,  9, 11],\n",
       "       [12, 13, 15],\n",
       "       [16, 17, 19],\n",
       "       [20, 21, 23]])"
      ]
     },
     "execution_count": 16,
     "metadata": {},
     "output_type": "execute_result"
    }
   ],
   "source": [
    "#now suppose we want to separate 0,1,3 columns\n",
    "b[:,[0,1,3]]"
   ]
  },
  {
   "cell_type": "code",
   "execution_count": 17,
   "id": "5ca99d75-9b7f-4e01-8364-601cd83ca09e",
   "metadata": {},
   "outputs": [
    {
     "data": {
      "text/plain": [
       "array([[ 0,  3],\n",
       "       [20, 23]])"
      ]
     },
     "execution_count": 17,
     "metadata": {},
     "output_type": "execute_result"
    }
   ],
   "source": [
    "b[::5,[0,3]]"
   ]
  },
  {
   "cell_type": "markdown",
   "id": "efa73774-d837-4e34-a18c-a5d192896de8",
   "metadata": {},
   "source": [
    " ##### boolean indexing In this indexing we slice elements according to condition ex-give me even elements from matrix"
   ]
  },
  {
   "cell_type": "code",
   "execution_count": 18,
   "id": "be4a5a81-9f91-4ec6-b303-243893e6b5db",
   "metadata": {},
   "outputs": [],
   "source": [
    "#we are creating a np array with numbers between 1-100 basically 24 elements between 1-100"
   ]
  },
  {
   "cell_type": "code",
   "execution_count": 19,
   "id": "423f1b4c-0a08-4779-ae3e-6c44054bb3d2",
   "metadata": {},
   "outputs": [],
   "source": [
    "#np.random.randint(lower limit,upper limit , total elements we want )\n",
    "a=np.random.randint(1,100,24).reshape(6,4)"
   ]
  },
  {
   "cell_type": "markdown",
   "id": "cab731dd-2b8e-4e90-bb6e-5f1a606a9200",
   "metadata": {},
   "source": [
    "# q1. in 'a' get all elements above 50\n",
    "#### idea-> we'll compare every element with 50 then from this we know that we'll get result in the form of true or false \n",
    "#### now from this true or false we can use it as a mask in our original array"
   ]
  },
  {
   "cell_type": "code",
   "execution_count": 20,
   "id": "2c939da8-f399-48f4-a2f2-0648dcc4a32f",
   "metadata": {},
   "outputs": [
    {
     "data": {
      "text/plain": [
       "array([[False,  True, False, False],\n",
       "       [False, False,  True, False],\n",
       "       [ True,  True, False, False],\n",
       "       [ True, False, False, False],\n",
       "       [False,  True, False,  True],\n",
       "       [ True, False, False,  True]])"
      ]
     },
     "execution_count": 20,
     "metadata": {},
     "output_type": "execute_result"
    }
   ],
   "source": [
    "#checking condition\n",
    "a>50"
   ]
  },
  {
   "cell_type": "code",
   "execution_count": 21,
   "id": "68d6f834-7be5-4101-9077-cfd024d12c45",
   "metadata": {},
   "outputs": [
    {
     "data": {
      "text/plain": [
       "array([73, 87, 88, 75, 66, 67, 83, 97, 73], dtype=int32)"
      ]
     },
     "execution_count": 21,
     "metadata": {},
     "output_type": "execute_result"
    }
   ],
   "source": [
    "#adding mask\n",
    "a[a>50]"
   ]
  },
  {
   "cell_type": "markdown",
   "id": "24ce4d60-c139-41a2-bf62-5624d96cb658",
   "metadata": {},
   "source": [
    "#### q2. get all even number from matrix"
   ]
  },
  {
   "cell_type": "code",
   "execution_count": 22,
   "id": "f48535ce-8528-41d9-8740-8fcfd217fd6a",
   "metadata": {},
   "outputs": [
    {
     "data": {
      "text/plain": [
       "array([12,  8,  6, 88, 32, 66, 36,  6, 36], dtype=int32)"
      ]
     },
     "execution_count": 22,
     "metadata": {},
     "output_type": "execute_result"
    }
   ],
   "source": [
    "a[a%2==0]"
   ]
  },
  {
   "cell_type": "markdown",
   "id": "54b4952f-8d34-47df-9529-670e291c1910",
   "metadata": {},
   "source": [
    "#### q2 get all elements greater than 50 and even"
   ]
  },
  {
   "cell_type": "code",
   "execution_count": 23,
   "id": "55840171-3c6d-4cd0-98ad-5e5665bcca1d",
   "metadata": {},
   "outputs": [
    {
     "data": {
      "text/plain": [
       "array([88, 66], dtype=int32)"
      ]
     },
     "execution_count": 23,
     "metadata": {},
     "output_type": "execute_result"
    }
   ],
   "source": [
    "a[(a%2==0) & (a>50)] # we're using $ because we're working on boolean values  in simple terms 'and ' is logical and and $ is bitwise and "
   ]
  },
  {
   "cell_type": "code",
   "execution_count": 24,
   "id": "a954c3ee-c591-46b7-b786-4156414f146e",
   "metadata": {},
   "outputs": [
    {
     "data": {
      "text/plain": [
       "array([12, 73, 19, 15,  8, 15, 87,  6, 88, 75, 32, 66,  3, 36, 33,  5, 67,\n",
       "        6, 83, 97, 36, 43, 73], dtype=int32)"
      ]
     },
     "execution_count": 24,
     "metadata": {},
     "output_type": "execute_result"
    }
   ],
   "source": [
    "#find all elements not divisible by 7\n",
    "a[a%7!= 0]"
   ]
  },
  {
   "cell_type": "markdown",
   "id": "c8c06920-9c49-4a70-bf22-6e8b9574cb51",
   "metadata": {},
   "source": [
    "## Broadcasting ~ most important ,confusing and fundamental topic of numpy"
   ]
  },
  {
   "cell_type": "markdown",
   "id": "a1eb85ca-673b-4b0b-9a42-d919013d63d0",
   "metadata": {},
   "source": [
    "#### broadcasting tell how numpy deals with different shapes of array during arithmetic problem\n",
    "#### through broadcasting we can add two array with different shapes \n",
    "### rule 1 \n",
    "#### so how does it works? basically it add 1 to the head of lower shapes array for operations . for example (3,2) and (3) these two are some array so in this case ideally we cannot perform any operation but we can through broadcasting we'll make other array as 1,3 \n",
    "### rule 2 \n",
    "#### stretch dimension of smaller array from 1 till needed for an  example 4,3 and 3 so acc to rule one we'll add 1 before 3 so it will become 1,3 and we will stretch 1 till 4\n",
    "### rule 3\n",
    "#### if there is dimension whose shape is not one in either of two array then it cannot be broadcasted\n",
    "### use of broadcasting-?\n",
    "#### numpy avoid loops and uses concept of broadcasting for vectorisation"
   ]
  },
  {
   "attachments": {
    "82e62225-5b1b-4813-b359-ec806f8f94c1.png": {
     "image/png": "[encoded data removed]"
    }
   },
   "cell_type": "markdown",
   "id": "add04f7a-9c20-44b9-8bf5-08da5f532a93",
   "metadata": {},
   "source": [
    "![a.png](attachment:82e62225-5b1b-4813-b359-ec806f8f94c1.png)"
   ]
  },
  {
   "cell_type": "code",
   "execution_count": 25,
   "id": "2c2dc671-a319-4b4d-aad8-0b0de416a3f3",
   "metadata": {},
   "outputs": [],
   "source": [
    "# q1\n",
    "a = np.arange(12).reshape(4,3)\n",
    "b = np.random.randint(1,12,3)"
   ]
  },
  {
   "cell_type": "code",
   "execution_count": 26,
   "id": "d418bf26-5c90-4e07-a1d6-0d36d477fd4c",
   "metadata": {},
   "outputs": [
    {
     "data": {
      "text/plain": [
       "array([[ 0,  1,  2],\n",
       "       [ 3,  4,  5],\n",
       "       [ 6,  7,  8],\n",
       "       [ 9, 10, 11]])"
      ]
     },
     "execution_count": 26,
     "metadata": {},
     "output_type": "execute_result"
    }
   ],
   "source": [
    "a"
   ]
  },
  {
   "cell_type": "code",
   "execution_count": 27,
   "id": "6f06eabf-d8d6-4a33-956b-2dd011c72b65",
   "metadata": {},
   "outputs": [
    {
     "data": {
      "text/plain": [
       "array([11,  4,  6], dtype=int32)"
      ]
     },
     "execution_count": 27,
     "metadata": {},
     "output_type": "execute_result"
    }
   ],
   "source": [
    "b"
   ]
  },
  {
   "cell_type": "code",
   "execution_count": 28,
   "id": "b7e57891-91e5-4fff-8a5b-832818888224",
   "metadata": {},
   "outputs": [],
   "source": [
    "# now according to rule one we'll add 1 to the head of our lower array ie b . and then we'll stretch it to make it 4 so ideally it will become 4,3"
   ]
  },
  {
   "cell_type": "code",
   "execution_count": 29,
   "id": "396a2e44-dbc5-48b6-bf20-94299e58cb15",
   "metadata": {},
   "outputs": [
    {
     "data": {
      "text/plain": [
       "array([[11,  5,  8],\n",
       "       [14,  8, 11],\n",
       "       [17, 11, 14],\n",
       "       [20, 14, 17]])"
      ]
     },
     "execution_count": 29,
     "metadata": {},
     "output_type": "execute_result"
    }
   ],
   "source": [
    "a+b\n"
   ]
  },
  {
   "cell_type": "code",
   "execution_count": 30,
   "id": "73a57940-dc21-46ff-b451-bcd0acef1cec",
   "metadata": {},
   "outputs": [
    {
     "data": {
      "text/plain": [
       "array([[1, 8, 9],\n",
       "       [1, 8, 9],\n",
       "       [1, 8, 9]])"
      ]
     },
     "execution_count": 30,
     "metadata": {},
     "output_type": "execute_result"
    }
   ],
   "source": [
    "#see 1,8,9 was stretched to 4,3  ideally it became something like -:\n",
    "np.array([[1,8,9],[1,8,9],[1,8,9]])"
   ]
  },
  {
   "cell_type": "code",
   "execution_count": 31,
   "id": "65ffbcc0-a8d5-438c-b5e2-2fc423dfef94",
   "metadata": {},
   "outputs": [],
   "source": [
    "# q2\n",
    "a=np.arange(12,24).reshape(3,4)\n",
    "b=np.arange(3)"
   ]
  },
  {
   "cell_type": "code",
   "execution_count": 32,
   "id": "3e590c1c-e1da-4122-8283-2ad5b32093d7",
   "metadata": {},
   "outputs": [
    {
     "data": {
      "text/plain": [
       "array([[12, 13, 14, 15],\n",
       "       [16, 17, 18, 19],\n",
       "       [20, 21, 22, 23]])"
      ]
     },
     "execution_count": 32,
     "metadata": {},
     "output_type": "execute_result"
    }
   ],
   "source": [
    "a"
   ]
  },
  {
   "cell_type": "code",
   "execution_count": 33,
   "id": "a0b92c07-3cb2-4cb6-b30f-92c711ff77b5",
   "metadata": {},
   "outputs": [
    {
     "data": {
      "text/plain": [
       "array([0, 1, 2])"
      ]
     },
     "execution_count": 33,
     "metadata": {},
     "output_type": "execute_result"
    }
   ],
   "source": [
    "b"
   ]
  },
  {
   "cell_type": "markdown",
   "id": "1746c394-8514-422e-87fe-e82a6cfa9837",
   "metadata": {},
   "source": [
    "#### now in q2 we can clearly notice that even after broadcasting we can only make our array b to 3,3 but it should be 3,4. So broadcasting will not work"
   ]
  },
  {
   "cell_type": "code",
   "execution_count": 34,
   "id": "ad7dee9b-e962-44b1-8d75-5696dc226948",
   "metadata": {},
   "outputs": [
    {
     "ename": "ValueError",
     "evalue": "operands could not be broadcast together with shapes (3,4) (3,) ",
     "output_type": "error",
     "traceback": [
      "\u001b[1;31m---------------------------------------------------------------------------\u001b[0m",
      "\u001b[1;31mValueError\u001b[0m                                Traceback (most recent call last)",
      "Cell \u001b[1;32mIn[34], line 1\u001b[0m\n\u001b[1;32m----> 1\u001b[0m \u001b[43ma\u001b[49m\u001b[38;5;241;43m+\u001b[39;49m\u001b[43mb\u001b[49m \u001b[38;5;66;03m#we'll get error\u001b[39;00m\n",
      "\u001b[1;31mValueError\u001b[0m: operands could not be broadcast together with shapes (3,4) (3,) "
     ]
    }
   ],
   "source": [
    "a+b #we'll get error"
   ]
  },
  {
   "cell_type": "code",
   "execution_count": null,
   "id": "e4d43e09-c83e-42af-9fd3-41bf54240fe6",
   "metadata": {},
   "outputs": [],
   "source": [
    "#q3\n",
    "a=np.arange(3).reshape(1,3)\n",
    "b=np.arange(3,6).reshape(3,1)"
   ]
  },
  {
   "cell_type": "code",
   "execution_count": null,
   "id": "194e6bbf-4c2e-460d-b6ab-7a3a07c21ccd",
   "metadata": {},
   "outputs": [],
   "source": [
    "a"
   ]
  },
  {
   "cell_type": "code",
   "execution_count": null,
   "id": "bf740435-5167-474a-a9ef-bfee2c934d1c",
   "metadata": {},
   "outputs": [],
   "source": [
    "b"
   ]
  },
  {
   "cell_type": "code",
   "execution_count": null,
   "id": "4db83101-01e6-4043-8b69-2a8cb063842b",
   "metadata": {},
   "outputs": [],
   "source": [
    "#now in this case our dimensions are already same so rule 1 is already satisfied. so we need to stretch both a and b to 3,3 . \n",
    "#and then we can broadcast and do arithmetic operations\n",
    "a+b"
   ]
  },
  {
   "cell_type": "code",
   "execution_count": null,
   "id": "01978eb9-bcd6-40d7-bb5a-29258af77b24",
   "metadata": {},
   "outputs": [],
   "source": [
    "#just remember if there is no 1 in any dimenstion we cannot even stretch \n",
    "# see below two examples\n",
    "a=np.arange(4).reshape(2,2)\n",
    "b=np.arange(1)"
   ]
  },
  {
   "cell_type": "code",
   "execution_count": null,
   "id": "0aedc6a1-01ef-4b6d-9807-4f3a78b3d216",
   "metadata": {},
   "outputs": [],
   "source": [
    "#in this case we can broadcaste easily\n",
    "a+b"
   ]
  },
  {
   "cell_type": "code",
   "execution_count": null,
   "id": "64c6236b-c8e3-4a4e-b913-83bcfc463a18",
   "metadata": {},
   "outputs": [],
   "source": [
    "#but below in this case->\n",
    "a=np.arange(12).reshape(3,4)\n",
    "b=np.arange(20).reshape(5,4)\n"
   ]
  },
  {
   "cell_type": "code",
   "execution_count": null,
   "id": "d8a91109-fdc9-4c60-b285-7e49a2ba687b",
   "metadata": {},
   "outputs": [],
   "source": [
    "#in this case we cannot because dimensions are already same and we cannot stretch because one is now available"
   ]
  },
  {
   "cell_type": "code",
   "execution_count": null,
   "id": "759cf705-904e-445c-8cc3-14d371e081e5",
   "metadata": {},
   "outputs": [],
   "source": [
    "a+b"
   ]
  },
  {
   "cell_type": "code",
   "execution_count": null,
   "id": "61b4facf-4e08-460e-9a7a-b857a97a7b28",
   "metadata": {},
   "outputs": [],
   "source": []
  }
 ],
 "metadata": {
  "kernelspec": {
   "display_name": "Python 3 (ipykernel)",
   "language": "python",
   "name": "python3"
  },
  "language_info": {
   "codemirror_mode": {
    "name": "ipython",
    "version": 3
   },
   "file_extension": ".py",
   "mimetype": "text/x-python",
   "name": "python",
   "nbconvert_exporter": "python",
   "pygments_lexer": "ipython3",
   "version": "3.13.0"
  }
 },
 "nbformat": 4,
 "nbformat_minor": 5
}
