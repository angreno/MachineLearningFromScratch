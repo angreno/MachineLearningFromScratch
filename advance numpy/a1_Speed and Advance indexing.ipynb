{
 "cells": [
  {
   "cell_type": "markdown",
   "id": "b5c9323e-e1e4-4782-a176-efdd4b3b7ebb",
   "metadata": {},
   "source": [
    "### comparing python list and numpy"
   ]
  },
  {
   "cell_type": "markdown",
   "id": "2d1c7fd1-2037-4182-bf45-4d2e30892e24",
   "metadata": {},
   "source": [
    "#### first we'll compare speed of both list and numpy\n",
    "#### idea is we'll add two array in both list and numpy and we'll calculate time taken for rough idea"
   ]
  },
  {
   "cell_type": "code",
   "execution_count": 2,
   "id": "122c64bd-f7c5-416b-a8d0-d486b51f98ed",
   "metadata": {},
   "outputs": [],
   "source": [
    "import numpy as np\n",
    "import time #to measure time"
   ]
  },
  {
   "cell_type": "code",
   "execution_count": 6,
   "id": "b8403740-1306-405f-9b4f-6ece9b5905bb",
   "metadata": {},
   "outputs": [],
   "source": [
    "a= [i for i in range (10000000)]\n",
    "b= [i for i in range (10000000)]"
   ]
  },
  {
   "cell_type": "code",
   "execution_count": 12,
   "id": "4c745180-eb43-474a-81d8-1e01f2099fcc",
   "metadata": {},
   "outputs": [
    {
     "data": {
      "text/plain": [
       "0.8545947074890137"
      ]
     },
     "execution_count": 12,
     "metadata": {},
     "output_type": "execute_result"
    }
   ],
   "source": [
    "# adding both a and b\n",
    "start = time.time()\n",
    "for i in range(len(a)):\n",
    "    c=a[i]+b[i]\n",
    "time.time()-start\n",
    "    "
   ]
  },
  {
   "cell_type": "code",
   "execution_count": 13,
   "id": "89f567fa-24cd-4f64-aada-d52a43ee5861",
   "metadata": {},
   "outputs": [
    {
     "data": {
      "text/plain": [
       "0.026459932327270508"
      ]
     },
     "execution_count": 13,
     "metadata": {},
     "output_type": "execute_result"
    }
   ],
   "source": [
    "#now lets try on numpy\n",
    "a1=np.arange(10000000)\n",
    "b1=np.arange(10000000,20000000)\n",
    "start =time.time()\n",
    "c=a1+b1\n",
    "time.time()-start"
   ]
  },
  {
   "cell_type": "code",
   "execution_count": 14,
   "id": "4271600b-065e-4716-b1e6-d3316a899af8",
   "metadata": {},
   "outputs": [
    {
     "data": {
      "text/plain": [
       "42.5"
      ]
     },
     "execution_count": 14,
     "metadata": {},
     "output_type": "execute_result"
    }
   ],
   "source": [
    "0.85/0.02"
   ]
  },
  {
   "cell_type": "markdown",
   "id": "01c852a6-09c6-497b-b322-b538f9f0dfd0",
   "metadata": {},
   "source": [
    "### we can clearly see that numpy is 40 times faster than python list due to->\n",
    "### python list is dynamic and python stores its elements location ,  in reference memory\n"
   ]
  },
  {
   "cell_type": "markdown",
   "id": "942a5f73-b33f-4737-b5cd-ce536d50ffb7",
   "metadata": {},
   "source": [
    "# now lets check memory"
   ]
  },
  {
   "cell_type": "code",
   "execution_count": 16,
   "id": "a13ff539-73dd-479e-96e2-d46df9e9e0b0",
   "metadata": {},
   "outputs": [
    {
     "data": {
      "text/plain": [
       "835128600"
      ]
     },
     "execution_count": 16,
     "metadata": {},
     "output_type": "execute_result"
    }
   ],
   "source": [
    "import sys #to get memory size \n",
    "a= [i for i in range (100000000)]\n",
    "sys.getsizeof(a)"
   ]
  },
  {
   "cell_type": "code",
   "execution_count": 17,
   "id": "78f0ca13-aa26-4b62-8fa1-00895f31e261",
   "metadata": {},
   "outputs": [
    {
     "data": {
      "text/plain": [
       "800000112"
      ]
     },
     "execution_count": 17,
     "metadata": {},
     "output_type": "execute_result"
    }
   ],
   "source": [
    "b=np.arange(100000000)\n",
    "sys.getsizeof(b)"
   ]
  },
  {
   "cell_type": "markdown",
   "id": "8812b6f0-1220-4c96-93de-59f10dec5680",
   "metadata": {},
   "source": [
    "#### fancy indexing and boolean indexing"
   ]
  },
  {
   "cell_type": "code",
   "execution_count": 20,
   "id": "e09135a0-a36d-4fc6-befe-7a45300f472a",
   "metadata": {},
   "outputs": [],
   "source": [
    "a= np.arange(12).reshape(4,3)"
   ]
  },
  {
   "cell_type": "code",
   "execution_count": 21,
   "id": "705916af-85f8-4d6c-ac7f-5ee37ca1e69e",
   "metadata": {},
   "outputs": [
    {
     "data": {
      "text/plain": [
       "array([[ 0,  1,  2],\n",
       "       [ 3,  4,  5],\n",
       "       [ 6,  7,  8],\n",
       "       [ 9, 10, 11]])"
      ]
     },
     "execution_count": 21,
     "metadata": {},
     "output_type": "execute_result"
    }
   ],
   "source": [
    "a"
   ]
  },
  {
   "cell_type": "code",
   "execution_count": 24,
   "id": "037ea7b5-3e11-450b-b3b6-028bf5ea044f",
   "metadata": {},
   "outputs": [
    {
     "data": {
      "text/plain": [
       "array([[ 3,  4,  5],\n",
       "       [ 9, 10, 11]])"
      ]
     },
     "execution_count": 24,
     "metadata": {},
     "output_type": "execute_result"
    }
   ],
   "source": [
    "#suppose from a matrix we want to get 0 th column , 2nd and 3rd from normal slicing we cannot do this so for this purpose \n",
    "#from normal slicing we can get \n",
    "a[1::2]"
   ]
  },
  {
   "cell_type": "code",
   "execution_count": 25,
   "id": "109df59c-e20d-440a-8cb5-1a2536f26d63",
   "metadata": {},
   "outputs": [],
   "source": [
    "# as we can see that by anyhow we can't get 0th column by anyhow so for this issue we need something called as fancy indexing"
   ]
  },
  {
   "cell_type": "code",
   "execution_count": 26,
   "id": "c94ce504-0039-485a-a98d-f3b01bc6b3fc",
   "metadata": {},
   "outputs": [
    {
     "data": {
      "text/plain": [
       "array([[ 0,  1,  2],\n",
       "       [ 6,  7,  8],\n",
       "       [ 9, 10, 11]])"
      ]
     },
     "execution_count": 26,
     "metadata": {},
     "output_type": "execute_result"
    }
   ],
   "source": [
    "#in facing indexing what we do is we pass index as list\n",
    "a[[0,2,3]]"
   ]
  },
  {
   "cell_type": "code",
   "execution_count": 29,
   "id": "18c46ca4-1c3f-495d-a56d-8cc1705893c5",
   "metadata": {},
   "outputs": [],
   "source": [
    "#to make things interesting \n",
    "b = np.arange(24).reshape(6,4)"
   ]
  },
  {
   "cell_type": "code",
   "execution_count": 30,
   "id": "137e6d48-0a45-4dc1-b201-8a7bbaf23d91",
   "metadata": {},
   "outputs": [
    {
     "data": {
      "text/plain": [
       "array([[ 0,  1,  2,  3],\n",
       "       [ 4,  5,  6,  7],\n",
       "       [ 8,  9, 10, 11],\n",
       "       [12, 13, 14, 15],\n",
       "       [16, 17, 18, 19],\n",
       "       [20, 21, 22, 23]])"
      ]
     },
     "execution_count": 30,
     "metadata": {},
     "output_type": "execute_result"
    }
   ],
   "source": [
    "b"
   ]
  },
  {
   "cell_type": "code",
   "execution_count": 31,
   "id": "e4aaa6d7-94df-4317-8393-1ffe15498311",
   "metadata": {},
   "outputs": [
    {
     "data": {
      "text/plain": [
       "array([[ 0,  1,  2,  3],\n",
       "       [ 8,  9, 10, 11],\n",
       "       [12, 13, 14, 15],\n",
       "       [20, 21, 22, 23]])"
      ]
     },
     "execution_count": 31,
     "metadata": {},
     "output_type": "execute_result"
    }
   ],
   "source": [
    "#lets say we want following rows 0,2,3 and 5\n",
    "b[[0,2,3,5]]"
   ]
  },
  {
   "cell_type": "code",
   "execution_count": 32,
   "id": "10ef42c2-87cd-482d-8995-1d4a8c885fce",
   "metadata": {},
   "outputs": [
    {
     "data": {
      "text/plain": [
       "array([[ 0,  1,  3],\n",
       "       [ 4,  5,  7],\n",
       "       [ 8,  9, 11],\n",
       "       [12, 13, 15],\n",
       "       [16, 17, 19],\n",
       "       [20, 21, 23]])"
      ]
     },
     "execution_count": 32,
     "metadata": {},
     "output_type": "execute_result"
    }
   ],
   "source": [
    "#now suppose we want to separate 0,1,3 columns\n",
    "b[:,[0,1,3]]"
   ]
  },
  {
   "cell_type": "code",
   "execution_count": 33,
   "id": "5ca99d75-9b7f-4e01-8364-601cd83ca09e",
   "metadata": {},
   "outputs": [
    {
     "data": {
      "text/plain": [
       "array([[ 0,  3],\n",
       "       [20, 23]])"
      ]
     },
     "execution_count": 33,
     "metadata": {},
     "output_type": "execute_result"
    }
   ],
   "source": [
    "b[::5,[0,3]]"
   ]
  },
  {
   "cell_type": "markdown",
   "id": "efa73774-d837-4e34-a18c-a5d192896de8",
   "metadata": {},
   "source": [
    " ##### boolean indexing In this indexing we slice elements according to condition ex-give me even elements from matrix"
   ]
  },
  {
   "cell_type": "code",
   "execution_count": 34,
   "id": "be4a5a81-9f91-4ec6-b303-243893e6b5db",
   "metadata": {},
   "outputs": [],
   "source": [
    "#we are creating a np array with numbers between 1-100 basically 24 elements between 1-100"
   ]
  },
  {
   "cell_type": "code",
   "execution_count": 37,
   "id": "423f1b4c-0a08-4779-ae3e-6c44054bb3d2",
   "metadata": {},
   "outputs": [],
   "source": [
    "#np.random.randint(lower limit,upper limit , total elements we want )\n",
    "a=np.random.randint(1,100,24).reshape(6,4)"
   ]
  },
  {
   "cell_type": "markdown",
   "id": "cab731dd-2b8e-4e90-bb6e-5f1a606a9200",
   "metadata": {},
   "source": [
    "# q1. in 'a' get all elements above 50\n",
    "#### idea-> we'll compare every element with 50 then from this we know that we'll get result in the form of true or false \n",
    "#### now from this true or false we can use it as a mask in our original array"
   ]
  },
  {
   "cell_type": "code",
   "execution_count": 41,
   "id": "2c939da8-f399-48f4-a2f2-0648dcc4a32f",
   "metadata": {},
   "outputs": [
    {
     "data": {
      "text/plain": [
       "array([[ True,  True, False, False],\n",
       "       [False, False, False, False],\n",
       "       [False,  True, False, False],\n",
       "       [False, False, False, False],\n",
       "       [ True, False,  True,  True],\n",
       "       [False, False,  True, False]])"
      ]
     },
     "execution_count": 41,
     "metadata": {},
     "output_type": "execute_result"
    }
   ],
   "source": [
    "#checking condition\n",
    "a>50"
   ]
  },
  {
   "cell_type": "code",
   "execution_count": 42,
   "id": "68d6f834-7be5-4101-9077-cfd024d12c45",
   "metadata": {},
   "outputs": [
    {
     "data": {
      "text/plain": [
       "array([58, 60, 77, 67, 78, 73, 92], dtype=int32)"
      ]
     },
     "execution_count": 42,
     "metadata": {},
     "output_type": "execute_result"
    }
   ],
   "source": [
    "#adding mask\n",
    "a[a>50]"
   ]
  },
  {
   "cell_type": "markdown",
   "id": "24ce4d60-c139-41a2-bf62-5624d96cb658",
   "metadata": {},
   "source": [
    "#### q2. get all even number from matrix"
   ]
  },
  {
   "cell_type": "code",
   "execution_count": 43,
   "id": "f48535ce-8528-41d9-8740-8fcfd217fd6a",
   "metadata": {},
   "outputs": [
    {
     "data": {
      "text/plain": [
       "array([58, 60, 50, 36, 36, 26, 28, 44, 10, 24, 40, 78, 30, 18, 92],\n",
       "      dtype=int32)"
      ]
     },
     "execution_count": 43,
     "metadata": {},
     "output_type": "execute_result"
    }
   ],
   "source": [
    "a[a%2==0]"
   ]
  },
  {
   "cell_type": "markdown",
   "id": "54b4952f-8d34-47df-9529-670e291c1910",
   "metadata": {},
   "source": [
    "#### q2 get all elements greater than 50 and even"
   ]
  },
  {
   "cell_type": "code",
   "execution_count": 52,
   "id": "55840171-3c6d-4cd0-98ad-5e5665bcca1d",
   "metadata": {},
   "outputs": [
    {
     "data": {
      "text/plain": [
       "array([58, 60, 78, 92], dtype=int32)"
      ]
     },
     "execution_count": 52,
     "metadata": {},
     "output_type": "execute_result"
    }
   ],
   "source": [
    "a[(a%2==0) & (a>50)] # we're using $ because we're working on boolean values  in simple terms 'and ' is logical and and $ is bitwise and "
   ]
  },
  {
   "cell_type": "code",
   "execution_count": 53,
   "id": "a954c3ee-c591-46b7-b786-4156414f146e",
   "metadata": {},
   "outputs": [
    {
     "data": {
      "text/plain": [
       "array([58, 60, 50, 36,  9, 11, 33, 36,  3, 26, 37, 44, 10, 24, 67, 40, 78,\n",
       "       73, 30, 18, 92, 31], dtype=int32)"
      ]
     },
     "execution_count": 53,
     "metadata": {},
     "output_type": "execute_result"
    }
   ],
   "source": [
    "#find all elements not divisible by 7\n",
    "a[a%7!= 0]"
   ]
  },
  {
   "cell_type": "markdown",
   "id": "c8c06920-9c49-4a70-bf22-6e8b9574cb51",
   "metadata": {},
   "source": [
    "## Broadcasting ~ most important ,confusing and fundamental topic of numpy"
   ]
  },
  {
   "cell_type": "code",
   "execution_count": null,
   "id": "73b844b1-afff-403b-99f3-6b6a4f4b6825",
   "metadata": {},
   "outputs": [],
   "source": [
    "    "
   ]
  }
 ],
 "metadata": {
  "kernelspec": {
   "display_name": "Python 3 (ipykernel)",
   "language": "python",
   "name": "python3"
  },
  "language_info": {
   "codemirror_mode": {
    "name": "ipython",
    "version": 3
   },
   "file_extension": ".py",
   "mimetype": "text/x-python",
   "name": "python",
   "nbconvert_exporter": "python",
   "pygments_lexer": "ipython3",
   "version": "3.13.0"
  }
 },
 "nbformat": 4,
 "nbformat_minor": 5
}
